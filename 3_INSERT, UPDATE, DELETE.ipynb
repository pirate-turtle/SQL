{
 "cells": [
  {
   "cell_type": "markdown",
   "metadata": {},
   "source": [
    "## 먼저 실행하기!"
   ]
  },
  {
   "cell_type": "code",
   "execution_count": 1,
   "metadata": {},
   "outputs": [],
   "source": [
    "import sqlite3\n",
    "from prettytable import from_db_cursor\n",
    "\n",
    "# SQLite 데이터베이스에 연결하기 위해 connect 생성\n",
    "con = sqlite3.connect('./database/example.db')\n",
    "con.row_factory = sqlite3.Row\n",
    "\n",
    "# cursor 생성\n",
    "cur = con.cursor()\n",
    "\n",
    "# 테이블이 이미 있다면 삭제\n",
    "cur.execute(\"DROP TABLE IF EXISTS student\")\n",
    "\n",
    "# 데이터 삽입할 테이블 생성\n",
    "cur.execute(\"\"\"\n",
    "    CREATE TABLE student(\n",
    "        student_id INTEGER PRIMARY KEY,\n",
    "        first_name text DEFAULT 'Anonymous',\n",
    "        last_name text DEFAULT 'Anonymous',\n",
    "        age integer DEFAULT 0\n",
    "    )\n",
    "    \"\"\")"
   ]
  },
  {
   "cell_type": "markdown",
   "metadata": {},
   "source": [
    "## INSERT\n",
    "테이블에 레코드를 추가합니다\n",
    "\n",
    "`INSERT 테이블(컬럼) VALEUS (데이터)`\n",
    "\n",
    "컬럼의 수와 데이터의 수가 일치해야 합니다."
   ]
  },
  {
   "cell_type": "code",
   "execution_count": 3,
   "metadata": {},
   "outputs": [
    {
     "data": {
      "text/html": [
       "<table>\n",
       "    <thead>\n",
       "        <tr>\n",
       "            <th>student_id</th>\n",
       "            <th>first_name</th>\n",
       "            <th>last_name</th>\n",
       "            <th>age</th>\n",
       "        </tr>\n",
       "    </thead>\n",
       "    <tbody>\n",
       "        <tr>\n",
       "            <td>1</td>\n",
       "            <td>Harry</td>\n",
       "            <td>Potter</td>\n",
       "            <td>13</td>\n",
       "        </tr>\n",
       "    </tbody>\n",
       "</table>"
      ],
      "text/plain": [
       "+------------+------------+-----------+-----+\n",
       "| student_id | first_name | last_name | age |\n",
       "+------------+------------+-----------+-----+\n",
       "|     1      |   Harry    |   Potter  |  13 |\n",
       "+------------+------------+-----------+-----+"
      ]
     },
     "execution_count": 3,
     "metadata": {},
     "output_type": "execute_result"
    }
   ],
   "source": [
    "cur.execute(\"\"\"\n",
    "            INSERT INTO student (first_name, last_name, age)\n",
    "            VALUES ('Harry', 'Potter', 13)\n",
    "            \"\"\")\n",
    "\n",
    "cur.execute(\"\"\"\n",
    "            SELECT * \n",
    "            FROM student\n",
    "            \"\"\")\n",
    "\n",
    "from_db_cursor(cur)"
   ]
  },
  {
   "cell_type": "code",
   "execution_count": 4,
   "metadata": {},
   "outputs": [
    {
     "data": {
      "text/html": [
       "<table>\n",
       "    <thead>\n",
       "        <tr>\n",
       "            <th>student_id</th>\n",
       "            <th>first_name</th>\n",
       "            <th>last_name</th>\n",
       "            <th>age</th>\n",
       "        </tr>\n",
       "    </thead>\n",
       "    <tbody>\n",
       "        <tr>\n",
       "            <td>1</td>\n",
       "            <td>Harry</td>\n",
       "            <td>Potter</td>\n",
       "            <td>13</td>\n",
       "        </tr>\n",
       "        <tr>\n",
       "            <td>2</td>\n",
       "            <td>80</td>\n",
       "            <td>Tomas</td>\n",
       "            <td>Train</td>\n",
       "        </tr>\n",
       "    </tbody>\n",
       "</table>"
      ],
      "text/plain": [
       "+------------+------------+-----------+-------+\n",
       "| student_id | first_name | last_name |  age  |\n",
       "+------------+------------+-----------+-------+\n",
       "|     1      |   Harry    |   Potter  |   13  |\n",
       "|     2      |     80     |   Tomas   | Train |\n",
       "+------------+------------+-----------+-------+"
      ]
     },
     "execution_count": 4,
     "metadata": {},
     "output_type": "execute_result"
    }
   ],
   "source": [
    "# 컬럼명을 적은 순서대로 데이터가 들어감\n",
    "cur.execute(\"\"\"\n",
    "            INSERT INTO student (age, last_name, first_name)\n",
    "            VALUES ('Train', 'Tomas', 80)\n",
    "            \"\"\")\n",
    "\n",
    "cur.execute(\"\"\"\n",
    "            SELECT * \n",
    "            FROM student\n",
    "            \"\"\")\n",
    "\n",
    "from_db_cursor(cur)"
   ]
  },
  {
   "cell_type": "code",
   "execution_count": 5,
   "metadata": {},
   "outputs": [
    {
     "ename": "OperationalError",
     "evalue": "2 values for 3 columns",
     "output_type": "error",
     "traceback": [
      "\u001b[1;31m---------------------------------------------------------------------------\u001b[0m",
      "\u001b[1;31mOperationalError\u001b[0m                          Traceback (most recent call last)",
      "\u001b[1;32mc:\\Users\\hamus\\OneDrive\\바탕 화면\\SQL\\3_INSERT, UPDATE, DELETE.ipynb Cell 6\u001b[0m line \u001b[0;36m2\n\u001b[0;32m      <a href='vscode-notebook-cell:/c%3A/Users/hamus/OneDrive/%EB%B0%94%ED%83%95%20%ED%99%94%EB%A9%B4/SQL/3_INSERT%2C%20UPDATE%2C%20DELETE.ipynb#W5sZmlsZQ%3D%3D?line=0'>1</a>\u001b[0m \u001b[39m# 컬럼 수와 데이터 수가 일치하지 않으면 에러 발생\u001b[39;00m\n\u001b[1;32m----> <a href='vscode-notebook-cell:/c%3A/Users/hamus/OneDrive/%EB%B0%94%ED%83%95%20%ED%99%94%EB%A9%B4/SQL/3_INSERT%2C%20UPDATE%2C%20DELETE.ipynb#W5sZmlsZQ%3D%3D?line=1'>2</a>\u001b[0m cur\u001b[39m.\u001b[39;49mexecute(\u001b[39m\"\"\"\u001b[39;49m\n\u001b[0;32m      <a href='vscode-notebook-cell:/c%3A/Users/hamus/OneDrive/%EB%B0%94%ED%83%95%20%ED%99%94%EB%A9%B4/SQL/3_INSERT%2C%20UPDATE%2C%20DELETE.ipynb#W5sZmlsZQ%3D%3D?line=2'>3</a>\u001b[0m \u001b[39m            INSERT INTO student (first_name, last_name, age)\u001b[39;49m\n\u001b[0;32m      <a href='vscode-notebook-cell:/c%3A/Users/hamus/OneDrive/%EB%B0%94%ED%83%95%20%ED%99%94%EB%A9%B4/SQL/3_INSERT%2C%20UPDATE%2C%20DELETE.ipynb#W5sZmlsZQ%3D%3D?line=3'>4</a>\u001b[0m \u001b[39m            VALUES (\u001b[39;49m\u001b[39m'\u001b[39;49m\u001b[39mSponge\u001b[39;49m\u001b[39m'\u001b[39;49m\u001b[39m, \u001b[39;49m\u001b[39m'\u001b[39;49m\u001b[39mBob\u001b[39;49m\u001b[39m'\u001b[39;49m\u001b[39m)\u001b[39;49m\n\u001b[0;32m      <a href='vscode-notebook-cell:/c%3A/Users/hamus/OneDrive/%EB%B0%94%ED%83%95%20%ED%99%94%EB%A9%B4/SQL/3_INSERT%2C%20UPDATE%2C%20DELETE.ipynb#W5sZmlsZQ%3D%3D?line=4'>5</a>\u001b[0m \u001b[39m            \u001b[39;49m\u001b[39m\"\"\"\u001b[39;49m)\n",
      "\u001b[1;31mOperationalError\u001b[0m: 2 values for 3 columns"
     ]
    }
   ],
   "source": [
    "# 컬럼 수와 데이터 수가 일치하지 않으면 에러 발생\n",
    "cur.execute(\"\"\"\n",
    "            INSERT INTO student (first_name, last_name, age)\n",
    "            VALUES ('Sponge', 'Bob')\n",
    "            \"\"\")"
   ]
  },
  {
   "cell_type": "code",
   "execution_count": 6,
   "metadata": {},
   "outputs": [
    {
     "data": {
      "text/html": [
       "<table>\n",
       "    <thead>\n",
       "        <tr>\n",
       "            <th>student_id</th>\n",
       "            <th>first_name</th>\n",
       "            <th>last_name</th>\n",
       "            <th>age</th>\n",
       "        </tr>\n",
       "    </thead>\n",
       "    <tbody>\n",
       "        <tr>\n",
       "            <td>1</td>\n",
       "            <td>Harry</td>\n",
       "            <td>Potter</td>\n",
       "            <td>13</td>\n",
       "        </tr>\n",
       "        <tr>\n",
       "            <td>2</td>\n",
       "            <td>80</td>\n",
       "            <td>Tomas</td>\n",
       "            <td>Train</td>\n",
       "        </tr>\n",
       "        <tr>\n",
       "            <td>3</td>\n",
       "            <td>Sponge</td>\n",
       "            <td>Bob</td>\n",
       "            <td>None</td>\n",
       "        </tr>\n",
       "    </tbody>\n",
       "</table>"
      ],
      "text/plain": [
       "+------------+------------+-----------+-------+\n",
       "| student_id | first_name | last_name |  age  |\n",
       "+------------+------------+-----------+-------+\n",
       "|     1      |   Harry    |   Potter  |   13  |\n",
       "|     2      |     80     |   Tomas   | Train |\n",
       "|     3      |   Sponge   |    Bob    |  None |\n",
       "+------------+------------+-----------+-------+"
      ]
     },
     "execution_count": 6,
     "metadata": {},
     "output_type": "execute_result"
    }
   ],
   "source": [
    "# NULL이 들어가더라도 데이터 수를 맞춰줘야 함\n",
    "cur.execute(\"\"\"\n",
    "            INSERT INTO student (first_name, last_name, age)\n",
    "            VALUES ('Sponge', 'Bob', NULL)\n",
    "            \"\"\")\n",
    "\n",
    "cur.execute(\"\"\"\n",
    "            SELECT * \n",
    "            FROM student\n",
    "            \"\"\")\n",
    "\n",
    "from_db_cursor(cur)\n"
   ]
  },
  {
   "cell_type": "code",
   "execution_count": 7,
   "metadata": {},
   "outputs": [
    {
     "data": {
      "text/html": [
       "<table>\n",
       "    <thead>\n",
       "        <tr>\n",
       "            <th>student_id</th>\n",
       "            <th>first_name</th>\n",
       "            <th>last_name</th>\n",
       "            <th>age</th>\n",
       "        </tr>\n",
       "    </thead>\n",
       "    <tbody>\n",
       "        <tr>\n",
       "            <td>1</td>\n",
       "            <td>Harry</td>\n",
       "            <td>Potter</td>\n",
       "            <td>13</td>\n",
       "        </tr>\n",
       "        <tr>\n",
       "            <td>2</td>\n",
       "            <td>80</td>\n",
       "            <td>Tomas</td>\n",
       "            <td>Train</td>\n",
       "        </tr>\n",
       "        <tr>\n",
       "            <td>3</td>\n",
       "            <td>Sponge</td>\n",
       "            <td>Bob</td>\n",
       "            <td>None</td>\n",
       "        </tr>\n",
       "        <tr>\n",
       "            <td>4</td>\n",
       "            <td>Sponge</td>\n",
       "            <td>Bob</td>\n",
       "            <td>52</td>\n",
       "        </tr>\n",
       "    </tbody>\n",
       "</table>"
      ],
      "text/plain": [
       "+------------+------------+-----------+-------+\n",
       "| student_id | first_name | last_name |  age  |\n",
       "+------------+------------+-----------+-------+\n",
       "|     1      |   Harry    |   Potter  |   13  |\n",
       "|     2      |     80     |   Tomas   | Train |\n",
       "|     3      |   Sponge   |    Bob    |  None |\n",
       "|     4      |   Sponge   |    Bob    |   52  |\n",
       "+------------+------------+-----------+-------+"
      ]
     },
     "execution_count": 7,
     "metadata": {},
     "output_type": "execute_result"
    }
   ],
   "source": [
    "# 컬럼을 생략하면 스키마 순서대로 데이터 입력됨\n",
    "cur.execute(\"\"\"\n",
    "            INSERT INTO student\n",
    "            VALUES (4, 'Sponge', 'Bob', 52)\n",
    "            \"\"\")\n",
    "\n",
    "cur.execute(\"\"\"\n",
    "            SELECT * \n",
    "            FROM student\n",
    "            \"\"\")\n",
    "\n",
    "from_db_cursor(cur)"
   ]
  },
  {
   "cell_type": "code",
   "execution_count": 8,
   "metadata": {},
   "outputs": [
    {
     "data": {
      "text/html": [
       "<table>\n",
       "    <thead>\n",
       "        <tr>\n",
       "            <th>student_id</th>\n",
       "            <th>first_name</th>\n",
       "            <th>last_name</th>\n",
       "            <th>age</th>\n",
       "        </tr>\n",
       "    </thead>\n",
       "    <tbody>\n",
       "        <tr>\n",
       "            <td>1</td>\n",
       "            <td>Harry</td>\n",
       "            <td>Potter</td>\n",
       "            <td>13</td>\n",
       "        </tr>\n",
       "        <tr>\n",
       "            <td>2</td>\n",
       "            <td>80</td>\n",
       "            <td>Tomas</td>\n",
       "            <td>Train</td>\n",
       "        </tr>\n",
       "        <tr>\n",
       "            <td>3</td>\n",
       "            <td>Sponge</td>\n",
       "            <td>Bob</td>\n",
       "            <td>None</td>\n",
       "        </tr>\n",
       "        <tr>\n",
       "            <td>4</td>\n",
       "            <td>Sponge</td>\n",
       "            <td>Bob</td>\n",
       "            <td>52</td>\n",
       "        </tr>\n",
       "        <tr>\n",
       "            <td>5</td>\n",
       "            <td>Anonymous</td>\n",
       "            <td>Anonymous</td>\n",
       "            <td>0</td>\n",
       "        </tr>\n",
       "    </tbody>\n",
       "</table>"
      ],
      "text/plain": [
       "+------------+------------+-----------+-------+\n",
       "| student_id | first_name | last_name |  age  |\n",
       "+------------+------------+-----------+-------+\n",
       "|     1      |   Harry    |   Potter  |   13  |\n",
       "|     2      |     80     |   Tomas   | Train |\n",
       "|     3      |   Sponge   |    Bob    |  None |\n",
       "|     4      |   Sponge   |    Bob    |   52  |\n",
       "|     5      | Anonymous  | Anonymous |   0   |\n",
       "+------------+------------+-----------+-------+"
      ]
     },
     "execution_count": 8,
     "metadata": {},
     "output_type": "execute_result"
    }
   ],
   "source": [
    "# 테이블 생성 시 설정했던 Default 값으로 데이터를 저장할 수도 있음\n",
    "cur.execute(\"\"\"\n",
    "            INSERT INTO student\n",
    "            DEFAULT VALUES\n",
    "            \"\"\")\n",
    "\n",
    "cur.execute(\"\"\"\n",
    "            SELECT * \n",
    "            FROM student\n",
    "            \"\"\")\n",
    "\n",
    "from_db_cursor(cur)"
   ]
  },
  {
   "cell_type": "markdown",
   "metadata": {},
   "source": [
    "## UPDATE\n",
    "데이터를 수정하고 싶을 때 사용합니다  \n",
    "`UPDATE 테이블 SET 데이터 WHERE 조건`"
   ]
  },
  {
   "cell_type": "code",
   "execution_count": 9,
   "metadata": {},
   "outputs": [
    {
     "data": {
      "text/html": [
       "<table>\n",
       "    <thead>\n",
       "        <tr>\n",
       "            <th>student_id</th>\n",
       "            <th>first_name</th>\n",
       "            <th>last_name</th>\n",
       "            <th>age</th>\n",
       "        </tr>\n",
       "    </thead>\n",
       "    <tbody>\n",
       "        <tr>\n",
       "            <td>1</td>\n",
       "            <td>Harry</td>\n",
       "            <td>Potter</td>\n",
       "            <td>13</td>\n",
       "        </tr>\n",
       "        <tr>\n",
       "            <td>2</td>\n",
       "            <td>80</td>\n",
       "            <td>Tomas</td>\n",
       "            <td>Train</td>\n",
       "        </tr>\n",
       "        <tr>\n",
       "            <td>3</td>\n",
       "            <td>Sponge</td>\n",
       "            <td>Bob</td>\n",
       "            <td>30</td>\n",
       "        </tr>\n",
       "        <tr>\n",
       "            <td>4</td>\n",
       "            <td>Sponge</td>\n",
       "            <td>Bob</td>\n",
       "            <td>52</td>\n",
       "        </tr>\n",
       "        <tr>\n",
       "            <td>5</td>\n",
       "            <td>Anonymous</td>\n",
       "            <td>Anonymous</td>\n",
       "            <td>0</td>\n",
       "        </tr>\n",
       "    </tbody>\n",
       "</table>"
      ],
      "text/plain": [
       "+------------+------------+-----------+-------+\n",
       "| student_id | first_name | last_name |  age  |\n",
       "+------------+------------+-----------+-------+\n",
       "|     1      |   Harry    |   Potter  |   13  |\n",
       "|     2      |     80     |   Tomas   | Train |\n",
       "|     3      |   Sponge   |    Bob    |   30  |\n",
       "|     4      |   Sponge   |    Bob    |   52  |\n",
       "|     5      | Anonymous  | Anonymous |   0   |\n",
       "+------------+------------+-----------+-------+"
      ]
     },
     "execution_count": 9,
     "metadata": {},
     "output_type": "execute_result"
    }
   ],
   "source": [
    "cur.execute(\"\"\"\n",
    "            UPDATE student\n",
    "            SET age = 30\n",
    "            WHERE student_id = 3\n",
    "            \"\"\")\n",
    "\n",
    "cur.execute(\"\"\"\n",
    "            SELECT * \n",
    "            FROM student\n",
    "            \"\"\")\n",
    "\n",
    "from_db_cursor(cur)"
   ]
  },
  {
   "cell_type": "code",
   "execution_count": 10,
   "metadata": {},
   "outputs": [
    {
     "data": {
      "text/html": [
       "<table>\n",
       "    <thead>\n",
       "        <tr>\n",
       "            <th>student_id</th>\n",
       "            <th>first_name</th>\n",
       "            <th>last_name</th>\n",
       "            <th>age</th>\n",
       "        </tr>\n",
       "    </thead>\n",
       "    <tbody>\n",
       "        <tr>\n",
       "            <td>1</td>\n",
       "            <td>Harry</td>\n",
       "            <td>Potter</td>\n",
       "            <td>13</td>\n",
       "        </tr>\n",
       "        <tr>\n",
       "            <td>2</td>\n",
       "            <td>80</td>\n",
       "            <td>Tomas</td>\n",
       "            <td>Train</td>\n",
       "        </tr>\n",
       "        <tr>\n",
       "            <td>3</td>\n",
       "            <td>Sponge</td>\n",
       "            <td>Bob</td>\n",
       "            <td>15</td>\n",
       "        </tr>\n",
       "        <tr>\n",
       "            <td>4</td>\n",
       "            <td>Sponge</td>\n",
       "            <td>Bob</td>\n",
       "            <td>15</td>\n",
       "        </tr>\n",
       "        <tr>\n",
       "            <td>5</td>\n",
       "            <td>Anonymous</td>\n",
       "            <td>Anonymous</td>\n",
       "            <td>0</td>\n",
       "        </tr>\n",
       "    </tbody>\n",
       "</table>"
      ],
      "text/plain": [
       "+------------+------------+-----------+-------+\n",
       "| student_id | first_name | last_name |  age  |\n",
       "+------------+------------+-----------+-------+\n",
       "|     1      |   Harry    |   Potter  |   13  |\n",
       "|     2      |     80     |   Tomas   | Train |\n",
       "|     3      |   Sponge   |    Bob    |   15  |\n",
       "|     4      |   Sponge   |    Bob    |   15  |\n",
       "|     5      | Anonymous  | Anonymous |   0   |\n",
       "+------------+------------+-----------+-------+"
      ]
     },
     "execution_count": 10,
     "metadata": {},
     "output_type": "execute_result"
    }
   ],
   "source": [
    "# 조건 설정할 때 주의해야함. 원하지 않는 레코드가 함께 수정될수도 있음\n",
    "cur.execute(\"\"\"\n",
    "            UPDATE student\n",
    "            SET age = 15\n",
    "            WHERE first_name = 'Sponge'\n",
    "            \"\"\")\n",
    "\n",
    "cur.execute(\"\"\"\n",
    "            SELECT * \n",
    "            FROM student\n",
    "            \"\"\")\n",
    "\n",
    "from_db_cursor(cur)"
   ]
  },
  {
   "cell_type": "code",
   "execution_count": 11,
   "metadata": {},
   "outputs": [
    {
     "data": {
      "text/html": [
       "<table>\n",
       "    <thead>\n",
       "        <tr>\n",
       "            <th>student_id</th>\n",
       "            <th>first_name</th>\n",
       "            <th>last_name</th>\n",
       "            <th>age</th>\n",
       "        </tr>\n",
       "    </thead>\n",
       "    <tbody>\n",
       "        <tr>\n",
       "            <td>1</td>\n",
       "            <td>Harry</td>\n",
       "            <td>Potter</td>\n",
       "            <td>13</td>\n",
       "        </tr>\n",
       "        <tr>\n",
       "            <td>2</td>\n",
       "            <td>80</td>\n",
       "            <td>Tomas</td>\n",
       "            <td>Train</td>\n",
       "        </tr>\n",
       "        <tr>\n",
       "            <td>3</td>\n",
       "            <td>Sponge</td>\n",
       "            <td>Bob</td>\n",
       "            <td>15</td>\n",
       "        </tr>\n",
       "        <tr>\n",
       "            <td>4</td>\n",
       "            <td>Sponge</td>\n",
       "            <td>Song</td>\n",
       "            <td>10</td>\n",
       "        </tr>\n",
       "        <tr>\n",
       "            <td>5</td>\n",
       "            <td>Anonymous</td>\n",
       "            <td>Anonymous</td>\n",
       "            <td>0</td>\n",
       "        </tr>\n",
       "    </tbody>\n",
       "</table>"
      ],
      "text/plain": [
       "+------------+------------+-----------+-------+\n",
       "| student_id | first_name | last_name |  age  |\n",
       "+------------+------------+-----------+-------+\n",
       "|     1      |   Harry    |   Potter  |   13  |\n",
       "|     2      |     80     |   Tomas   | Train |\n",
       "|     3      |   Sponge   |    Bob    |   15  |\n",
       "|     4      |   Sponge   |    Song   |   10  |\n",
       "|     5      | Anonymous  | Anonymous |   0   |\n",
       "+------------+------------+-----------+-------+"
      ]
     },
     "execution_count": 11,
     "metadata": {},
     "output_type": "execute_result"
    }
   ],
   "source": [
    "# 가능하면 유니크한 값으로 조작하는 것이 좋음\n",
    "cur.execute(\"\"\"\n",
    "            UPDATE student\n",
    "            SET age = 10, last_name = 'Song'\n",
    "            WHERE student_id = 4\n",
    "            \"\"\")\n",
    "\n",
    "cur.execute(\"\"\"\n",
    "            SELECT * \n",
    "            FROM student\n",
    "            \"\"\")\n",
    "\n",
    "from_db_cursor(cur)"
   ]
  },
  {
   "cell_type": "markdown",
   "metadata": {},
   "source": [
    "## DELETE\n",
    "데이터를 삭제하고싶을 때 사용합니다.\n",
    "`DELETE FROM 테이블 WHERE 조건`"
   ]
  },
  {
   "cell_type": "code",
   "execution_count": 12,
   "metadata": {},
   "outputs": [
    {
     "data": {
      "text/html": [
       "<table>\n",
       "    <thead>\n",
       "        <tr>\n",
       "            <th>student_id</th>\n",
       "            <th>first_name</th>\n",
       "            <th>last_name</th>\n",
       "            <th>age</th>\n",
       "        </tr>\n",
       "    </thead>\n",
       "    <tbody>\n",
       "        <tr>\n",
       "            <td>1</td>\n",
       "            <td>Harry</td>\n",
       "            <td>Potter</td>\n",
       "            <td>13</td>\n",
       "        </tr>\n",
       "        <tr>\n",
       "            <td>3</td>\n",
       "            <td>Sponge</td>\n",
       "            <td>Bob</td>\n",
       "            <td>15</td>\n",
       "        </tr>\n",
       "        <tr>\n",
       "            <td>4</td>\n",
       "            <td>Sponge</td>\n",
       "            <td>Song</td>\n",
       "            <td>10</td>\n",
       "        </tr>\n",
       "    </tbody>\n",
       "</table>"
      ],
      "text/plain": [
       "+------------+------------+-----------+-----+\n",
       "| student_id | first_name | last_name | age |\n",
       "+------------+------------+-----------+-----+\n",
       "|     1      |   Harry    |   Potter  |  13 |\n",
       "|     3      |   Sponge   |    Bob    |  15 |\n",
       "|     4      |   Sponge   |    Song   |  10 |\n",
       "+------------+------------+-----------+-----+"
      ]
     },
     "execution_count": 12,
     "metadata": {},
     "output_type": "execute_result"
    }
   ],
   "source": [
    "cur.execute(\"\"\"\n",
    "            DELETE\n",
    "            FROM student\n",
    "            WHERE student_id IN (2, 5)\n",
    "            \"\"\")\n",
    "\n",
    "cur.execute(\"\"\"\n",
    "            SELECT * \n",
    "            FROM student\n",
    "            \"\"\")\n",
    "\n",
    "from_db_cursor(cur)"
   ]
  }
 ],
 "metadata": {
  "kernelspec": {
   "display_name": "__venv__",
   "language": "python",
   "name": "python3"
  },
  "language_info": {
   "codemirror_mode": {
    "name": "ipython",
    "version": 3
   },
   "file_extension": ".py",
   "mimetype": "text/x-python",
   "name": "python",
   "nbconvert_exporter": "python",
   "pygments_lexer": "ipython3",
   "version": "3.10.11"
  }
 },
 "nbformat": 4,
 "nbformat_minor": 2
}
