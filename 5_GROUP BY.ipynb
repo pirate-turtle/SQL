{
 "cells": [
  {
   "cell_type": "markdown",
   "metadata": {},
   "source": [
    "사용한 테이블 스키마  \n",
    "<br/>\n",
    "![IMAGE](https://www.sqlitetutorial.net/wp-content/uploads/2015/11/sqlite-sample-database-color.jpg)  \n",
    "https://www.sqlitetutorial.net/sqlite-sample-database/  \n",
    "<br/>"
   ]
  },
  {
   "cell_type": "code",
   "execution_count": 1,
   "metadata": {},
   "outputs": [],
   "source": [
    "import sqlite3\n",
    "from prettytable import from_db_cursor\n",
    "\n",
    "# SQLite 데이터베이스에 연결하기 위해 connect 생성\n",
    "con = sqlite3.connect('./database/chinook.db')\n",
    "\n",
    "# cursor 생성\n",
    "cur = con.cursor()"
   ]
  },
  {
   "cell_type": "markdown",
   "metadata": {},
   "source": [
    "## GROUP BY\n",
    "기준 컬럼에 대해 같은 값 끼리 그룹으로 묶습니다.  \n",
    "그룹으로 묶인 행에 대해 연산이 필요하다면 집계 함수와 조합합니다.  \n",
    "집계 함수 (Aggregate_function): COUNT, SUM, AVG, MIN, MAX  \n",
    "\n",
    "```\n",
    "SELECT\n",
    "    기준 컬럼, 집계 함수(집계할 컬럼)\n",
    "FROM 테이블\n",
    "GROUP BY 기준 컬럼\n",
    "```"
   ]
  },
  {
   "cell_type": "code",
   "execution_count": 4,
   "metadata": {},
   "outputs": [
    {
     "data": {
      "text/html": [
       "<table>\n",
       "    <thead>\n",
       "        <tr>\n",
       "            <th>AlbumId</th>\n",
       "            <th>COUNT(trackid)</th>\n",
       "        </tr>\n",
       "    </thead>\n",
       "    <tbody>\n",
       "        <tr>\n",
       "            <td>1</td>\n",
       "            <td>10</td>\n",
       "        </tr>\n",
       "        <tr>\n",
       "            <td>2</td>\n",
       "            <td>1</td>\n",
       "        </tr>\n",
       "        <tr>\n",
       "            <td>3</td>\n",
       "            <td>3</td>\n",
       "        </tr>\n",
       "        <tr>\n",
       "            <td>4</td>\n",
       "            <td>8</td>\n",
       "        </tr>\n",
       "        <tr>\n",
       "            <td>5</td>\n",
       "            <td>15</td>\n",
       "        </tr>\n",
       "    </tbody>\n",
       "</table>"
      ],
      "text/plain": [
       "+---------+----------------+\n",
       "| AlbumId | COUNT(trackid) |\n",
       "+---------+----------------+\n",
       "|    1    |       10       |\n",
       "|    2    |       1        |\n",
       "|    3    |       3        |\n",
       "|    4    |       8        |\n",
       "|    5    |       15       |\n",
       "+---------+----------------+"
      ]
     },
     "execution_count": 4,
     "metadata": {},
     "output_type": "execute_result"
    }
   ],
   "source": [
    "# 앨범별로 트랙이 몇개씩 있는지 조회해보기\n",
    "cur.execute(\"\"\"\n",
    "            SELECT \n",
    "                albumid, COUNT(trackid)\n",
    "            FROM\n",
    "                tracks\n",
    "            GROUP BY albumid\n",
    "            LIMIT 5;\n",
    "            \"\"\")\n",
    "\n",
    "from_db_cursor(cur)"
   ]
  },
  {
   "cell_type": "code",
   "execution_count": 5,
   "metadata": {},
   "outputs": [
    {
     "data": {
      "text/html": [
       "<table>\n",
       "    <thead>\n",
       "        <tr>\n",
       "            <th>AlbumId</th>\n",
       "            <th>COUNT(trackid)</th>\n",
       "        </tr>\n",
       "    </thead>\n",
       "    <tbody>\n",
       "        <tr>\n",
       "            <td>141</td>\n",
       "            <td>57</td>\n",
       "        </tr>\n",
       "        <tr>\n",
       "            <td>23</td>\n",
       "            <td>34</td>\n",
       "        </tr>\n",
       "        <tr>\n",
       "            <td>73</td>\n",
       "            <td>30</td>\n",
       "        </tr>\n",
       "        <tr>\n",
       "            <td>229</td>\n",
       "            <td>26</td>\n",
       "        </tr>\n",
       "        <tr>\n",
       "            <td>230</td>\n",
       "            <td>25</td>\n",
       "        </tr>\n",
       "    </tbody>\n",
       "</table>"
      ],
      "text/plain": [
       "+---------+----------------+\n",
       "| AlbumId | COUNT(trackid) |\n",
       "+---------+----------------+\n",
       "|   141   |       57       |\n",
       "|    23   |       34       |\n",
       "|    73   |       30       |\n",
       "|   229   |       26       |\n",
       "|   230   |       25       |\n",
       "+---------+----------------+"
      ]
     },
     "execution_count": 5,
     "metadata": {},
     "output_type": "execute_result"
    }
   ],
   "source": [
    "# GROUP BY 결과를 원하는 순서대로 정렬할수도 있음\n",
    "# 앨범별 트랙이 많은 순으로 조회\n",
    "cur.execute(\"\"\"\n",
    "            SELECT \n",
    "                albumid, COUNT(trackid)\n",
    "            FROM\n",
    "                tracks\n",
    "            GROUP BY albumid\n",
    "            ORDER BY COUNT(trackid) DESC\n",
    "            LIMIT 5;\n",
    "            \"\"\")\n",
    "\n",
    "from_db_cursor(cur)"
   ]
  },
  {
   "cell_type": "code",
   "execution_count": 10,
   "metadata": {},
   "outputs": [
    {
     "data": {
      "text/html": [
       "<table>\n",
       "    <thead>\n",
       "        <tr>\n",
       "            <th>AlbumId</th>\n",
       "            <th>SUM(unitprice)</th>\n",
       "        </tr>\n",
       "    </thead>\n",
       "    <tbody>\n",
       "        <tr>\n",
       "            <td>141</td>\n",
       "            <td>56.43000000000003</td>\n",
       "        </tr>\n",
       "        <tr>\n",
       "            <td>229</td>\n",
       "            <td>51.74000000000001</td>\n",
       "        </tr>\n",
       "        <tr>\n",
       "            <td>230</td>\n",
       "            <td>49.75000000000001</td>\n",
       "        </tr>\n",
       "        <tr>\n",
       "            <td>251</td>\n",
       "            <td>49.75000000000001</td>\n",
       "        </tr>\n",
       "        <tr>\n",
       "            <td>231</td>\n",
       "            <td>47.760000000000005</td>\n",
       "        </tr>\n",
       "    </tbody>\n",
       "</table>"
      ],
      "text/plain": [
       "+---------+--------------------+\n",
       "| AlbumId |   SUM(unitprice)   |\n",
       "+---------+--------------------+\n",
       "|   141   | 56.43000000000003  |\n",
       "|   229   | 51.74000000000001  |\n",
       "|   230   | 49.75000000000001  |\n",
       "|   251   | 49.75000000000001  |\n",
       "|   231   | 47.760000000000005 |\n",
       "+---------+--------------------+"
      ]
     },
     "execution_count": 10,
     "metadata": {},
     "output_type": "execute_result"
    }
   ],
   "source": [
    "# 앨범 별 가격 비싼순으로 조회하기\n",
    "cur.execute(\"\"\"\n",
    "            SELECT\n",
    "                albumid, SUM(unitprice)\n",
    "            FROM tracks\n",
    "            GROUP BY albumid\n",
    "            ORDER BY sum(unitprice) DESC\n",
    "            LIMIT 5;\n",
    "            \"\"\")\n",
    "\n",
    "from_db_cursor(cur)"
   ]
  },
  {
   "cell_type": "code",
   "execution_count": 16,
   "metadata": {},
   "outputs": [
    {
     "data": {
      "text/html": [
       "<table>\n",
       "    <thead>\n",
       "        <tr>\n",
       "            <th>AlbumId</th>\n",
       "            <th>ROUND(SUM(unitprice), 2)</th>\n",
       "        </tr>\n",
       "    </thead>\n",
       "    <tbody>\n",
       "        <tr>\n",
       "            <td>141</td>\n",
       "            <td>56.43</td>\n",
       "        </tr>\n",
       "        <tr>\n",
       "            <td>229</td>\n",
       "            <td>51.74</td>\n",
       "        </tr>\n",
       "        <tr>\n",
       "            <td>230</td>\n",
       "            <td>49.75</td>\n",
       "        </tr>\n",
       "        <tr>\n",
       "            <td>251</td>\n",
       "            <td>49.75</td>\n",
       "        </tr>\n",
       "        <tr>\n",
       "            <td>231</td>\n",
       "            <td>47.76</td>\n",
       "        </tr>\n",
       "    </tbody>\n",
       "</table>"
      ],
      "text/plain": [
       "+---------+--------------------------+\n",
       "| AlbumId | ROUND(SUM(unitprice), 2) |\n",
       "+---------+--------------------------+\n",
       "|   141   |          56.43           |\n",
       "|   229   |          51.74           |\n",
       "|   230   |          49.75           |\n",
       "|   251   |          49.75           |\n",
       "|   231   |          47.76           |\n",
       "+---------+--------------------------+"
      ]
     },
     "execution_count": 16,
     "metadata": {},
     "output_type": "execute_result"
    }
   ],
   "source": [
    "# 앨범 별 가격 비싼순으로 조회하기\n",
    "# 소수점 셋째자리에서 반올림해서 둘째짜리까지만 표시하기\n",
    "cur.execute(\"\"\"\n",
    "            SELECT\n",
    "                albumid, ROUND(SUM(unitprice), 2)\n",
    "            FROM tracks\n",
    "            GROUP BY albumid\n",
    "            ORDER BY sum(unitprice) DESC\n",
    "            LIMIT 5;\n",
    "            \"\"\")\n",
    "\n",
    "from_db_cursor(cur)"
   ]
  },
  {
   "cell_type": "code",
   "execution_count": 17,
   "metadata": {},
   "outputs": [
    {
     "data": {
      "text/html": [
       "<table>\n",
       "    <thead>\n",
       "        <tr>\n",
       "            <th>AlbumId</th>\n",
       "            <th>MIN(unitprice)</th>\n",
       "        </tr>\n",
       "    </thead>\n",
       "    <tbody>\n",
       "        <tr>\n",
       "            <td>1</td>\n",
       "            <td>0.99</td>\n",
       "        </tr>\n",
       "        <tr>\n",
       "            <td>2</td>\n",
       "            <td>0.99</td>\n",
       "        </tr>\n",
       "        <tr>\n",
       "            <td>3</td>\n",
       "            <td>0.99</td>\n",
       "        </tr>\n",
       "        <tr>\n",
       "            <td>4</td>\n",
       "            <td>0.99</td>\n",
       "        </tr>\n",
       "        <tr>\n",
       "            <td>5</td>\n",
       "            <td>0.99</td>\n",
       "        </tr>\n",
       "    </tbody>\n",
       "</table>"
      ],
      "text/plain": [
       "+---------+----------------+\n",
       "| AlbumId | MIN(unitprice) |\n",
       "+---------+----------------+\n",
       "|    1    |      0.99      |\n",
       "|    2    |      0.99      |\n",
       "|    3    |      0.99      |\n",
       "|    4    |      0.99      |\n",
       "|    5    |      0.99      |\n",
       "+---------+----------------+"
      ]
     },
     "execution_count": 17,
     "metadata": {},
     "output_type": "execute_result"
    }
   ],
   "source": [
    "# 앨범별로 가장 저렴한 트랙 가격순으로 조회해보기\n",
    "cur.execute(\"\"\"\n",
    "            SELECT\n",
    "                albumid, MIN(unitprice)\n",
    "            FROM tracks\n",
    "            GROUP BY albumid\n",
    "            ORDER BY MIN(unitprice)\n",
    "            LIMIT 5;\n",
    "            \"\"\")\n",
    "\n",
    "from_db_cursor(cur)"
   ]
  },
  {
   "cell_type": "code",
   "execution_count": 18,
   "metadata": {},
   "outputs": [
    {
     "data": {
      "text/html": [
       "<table>\n",
       "    <thead>\n",
       "        <tr>\n",
       "            <th>AlbumId</th>\n",
       "            <th>MAX(unitprice)</th>\n",
       "        </tr>\n",
       "    </thead>\n",
       "    <tbody>\n",
       "        <tr>\n",
       "            <td>226</td>\n",
       "            <td>1.99</td>\n",
       "        </tr>\n",
       "        <tr>\n",
       "            <td>227</td>\n",
       "            <td>1.99</td>\n",
       "        </tr>\n",
       "        <tr>\n",
       "            <td>228</td>\n",
       "            <td>1.99</td>\n",
       "        </tr>\n",
       "        <tr>\n",
       "            <td>229</td>\n",
       "            <td>1.99</td>\n",
       "        </tr>\n",
       "        <tr>\n",
       "            <td>230</td>\n",
       "            <td>1.99</td>\n",
       "        </tr>\n",
       "    </tbody>\n",
       "</table>"
      ],
      "text/plain": [
       "+---------+----------------+\n",
       "| AlbumId | MAX(unitprice) |\n",
       "+---------+----------------+\n",
       "|   226   |      1.99      |\n",
       "|   227   |      1.99      |\n",
       "|   228   |      1.99      |\n",
       "|   229   |      1.99      |\n",
       "|   230   |      1.99      |\n",
       "+---------+----------------+"
      ]
     },
     "execution_count": 18,
     "metadata": {},
     "output_type": "execute_result"
    }
   ],
   "source": [
    "# 앨범별로 가장 비싼 트랙 가격순으로 조회해보기\n",
    "cur.execute(\"\"\"\n",
    "            SELECT\n",
    "                albumid, MAX(unitprice)\n",
    "            FROM tracks\n",
    "            GROUP BY albumid\n",
    "            ORDER BY MAX(unitprice) DESC\n",
    "            LIMIT 5;\n",
    "            \"\"\")\n",
    "\n",
    "from_db_cursor(cur)"
   ]
  },
  {
   "cell_type": "markdown",
   "metadata": {},
   "source": [
    "## HAVING\n",
    "그룹으로 묶인 행에 조건을 추가하고 싶다면 HAVING을 사용합니다"
   ]
  },
  {
   "cell_type": "code",
   "execution_count": 20,
   "metadata": {},
   "outputs": [
    {
     "data": {
      "text/html": [
       "<table>\n",
       "    <thead>\n",
       "        <tr>\n",
       "            <th>AlbumId</th>\n",
       "            <th>COUNT(trackid)</th>\n",
       "        </tr>\n",
       "    </thead>\n",
       "    <tbody>\n",
       "        <tr>\n",
       "            <td>23</td>\n",
       "            <td>34</td>\n",
       "        </tr>\n",
       "        <tr>\n",
       "            <td>24</td>\n",
       "            <td>23</td>\n",
       "        </tr>\n",
       "        <tr>\n",
       "            <td>39</td>\n",
       "            <td>21</td>\n",
       "        </tr>\n",
       "        <tr>\n",
       "            <td>51</td>\n",
       "            <td>22</td>\n",
       "        </tr>\n",
       "        <tr>\n",
       "            <td>73</td>\n",
       "            <td>30</td>\n",
       "        </tr>\n",
       "        <tr>\n",
       "            <td>83</td>\n",
       "            <td>24</td>\n",
       "        </tr>\n",
       "        <tr>\n",
       "            <td>141</td>\n",
       "            <td>57</td>\n",
       "        </tr>\n",
       "        <tr>\n",
       "            <td>167</td>\n",
       "            <td>21</td>\n",
       "        </tr>\n",
       "        <tr>\n",
       "            <td>224</td>\n",
       "            <td>22</td>\n",
       "        </tr>\n",
       "        <tr>\n",
       "            <td>228</td>\n",
       "            <td>23</td>\n",
       "        </tr>\n",
       "        <tr>\n",
       "            <td>229</td>\n",
       "            <td>26</td>\n",
       "        </tr>\n",
       "        <tr>\n",
       "            <td>230</td>\n",
       "            <td>25</td>\n",
       "        </tr>\n",
       "        <tr>\n",
       "            <td>231</td>\n",
       "            <td>24</td>\n",
       "        </tr>\n",
       "        <tr>\n",
       "            <td>250</td>\n",
       "            <td>22</td>\n",
       "        </tr>\n",
       "        <tr>\n",
       "            <td>251</td>\n",
       "            <td>25</td>\n",
       "        </tr>\n",
       "        <tr>\n",
       "            <td>253</td>\n",
       "            <td>24</td>\n",
       "        </tr>\n",
       "        <tr>\n",
       "            <td>255</td>\n",
       "            <td>23</td>\n",
       "        </tr>\n",
       "    </tbody>\n",
       "</table>"
      ],
      "text/plain": [
       "+---------+----------------+\n",
       "| AlbumId | COUNT(trackid) |\n",
       "+---------+----------------+\n",
       "|    23   |       34       |\n",
       "|    24   |       23       |\n",
       "|    39   |       21       |\n",
       "|    51   |       22       |\n",
       "|    73   |       30       |\n",
       "|    83   |       24       |\n",
       "|   141   |       57       |\n",
       "|   167   |       21       |\n",
       "|   224   |       22       |\n",
       "|   228   |       23       |\n",
       "|   229   |       26       |\n",
       "|   230   |       25       |\n",
       "|   231   |       24       |\n",
       "|   250   |       22       |\n",
       "|   251   |       25       |\n",
       "|   253   |       24       |\n",
       "|   255   |       23       |\n",
       "+---------+----------------+"
      ]
     },
     "execution_count": 20,
     "metadata": {},
     "output_type": "execute_result"
    }
   ],
   "source": [
    "# 앨범 별 트랙 수가 20곡 초과인 경우만 조회\n",
    "cur.execute(\"\"\"\n",
    "            SELECT albumid, COUNT(trackid)\n",
    "            FROM tracks\n",
    "            GROUP BY albumid\n",
    "            HAVING COUNT(trackid) > 20 \n",
    "            \"\"\")\n",
    "\n",
    "from_db_cursor(cur)"
   ]
  }
 ],
 "metadata": {
  "kernelspec": {
   "display_name": "__venv__",
   "language": "python",
   "name": "python3"
  },
  "language_info": {
   "codemirror_mode": {
    "name": "ipython",
    "version": 3
   },
   "file_extension": ".py",
   "mimetype": "text/x-python",
   "name": "python",
   "nbconvert_exporter": "python",
   "pygments_lexer": "ipython3",
   "version": "3.10.11"
  }
 },
 "nbformat": 4,
 "nbformat_minor": 2
}
