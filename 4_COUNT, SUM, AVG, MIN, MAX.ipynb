{
 "cells": [
  {
   "cell_type": "code",
   "execution_count": 1,
   "metadata": {},
   "outputs": [
    {
     "data": {
      "text/plain": [
       "<sqlite3.Cursor at 0x20360d6e340>"
      ]
     },
     "execution_count": 1,
     "metadata": {},
     "output_type": "execute_result"
    }
   ],
   "source": [
    "import sqlite3\n",
    "from prettytable import from_db_cursor\n",
    "\n",
    "\n",
    "con = sqlite3.connect('./database/example.db')\n",
    "cur = con.cursor()\n",
    "\n",
    "# 테이블이 이미 있다면 삭제\n",
    "cur.execute(\"DROP TABLE IF EXISTS score\")\n",
    "\n",
    "cur.execute(\"\"\"\n",
    "            CREATE TABLE score(\n",
    "                name text,\n",
    "                korean INTEGER,\n",
    "                english INTEGER,\n",
    "                math INTEGER\n",
    "            )\n",
    "            \"\"\")"
   ]
  },
  {
   "cell_type": "code",
   "execution_count": 6,
   "metadata": {},
   "outputs": [
    {
     "data": {
      "text/html": [
       "<table>\n",
       "    <thead>\n",
       "        <tr>\n",
       "            <th>name</th>\n",
       "            <th>korean</th>\n",
       "            <th>english</th>\n",
       "            <th>math</th>\n",
       "        </tr>\n",
       "    </thead>\n",
       "    <tbody>\n",
       "        <tr>\n",
       "            <td>Amy</td>\n",
       "            <td>100</td>\n",
       "            <td>100</td>\n",
       "            <td>100</td>\n",
       "        </tr>\n",
       "        <tr>\n",
       "            <td>Bob</td>\n",
       "            <td>80</td>\n",
       "            <td>90</td>\n",
       "            <td>70</td>\n",
       "        </tr>\n",
       "        <tr>\n",
       "            <td>Olivia</td>\n",
       "            <td>60</td>\n",
       "            <td>80</td>\n",
       "            <td>90</td>\n",
       "        </tr>\n",
       "        <tr>\n",
       "            <td>Olaf</td>\n",
       "            <td>None</td>\n",
       "            <td>30</td>\n",
       "            <td>None</td>\n",
       "        </tr>\n",
       "    </tbody>\n",
       "</table>"
      ],
      "text/plain": [
       "+--------+--------+---------+------+\n",
       "|  name  | korean | english | math |\n",
       "+--------+--------+---------+------+\n",
       "|  Amy   |  100   |   100   | 100  |\n",
       "|  Bob   |   80   |    90   |  70  |\n",
       "| Olivia |   60   |    80   |  90  |\n",
       "|  Olaf  |  None  |    30   | None |\n",
       "+--------+--------+---------+------+"
      ]
     },
     "execution_count": 6,
     "metadata": {},
     "output_type": "execute_result"
    }
   ],
   "source": [
    "def data_generator():\n",
    "    datas = [\n",
    "        ['Amy', 100, 100, 100],\n",
    "        ['Bob', 80, 90, 70],\n",
    "        ['Olivia', 60, 80, 90],\n",
    "        ['Olaf', None, 30, None]\n",
    "    ]\n",
    "    for data in datas:\n",
    "        yield data\n",
    "\n",
    "cur.executemany(\"INSERT INTO score VALUES (?, ?, ?, ?)\", data_generator())\n",
    "cur.execute(\"SELECT * FROM score\")\n",
    "from_db_cursor(cur)"
   ]
  },
  {
   "cell_type": "markdown",
   "metadata": {},
   "source": [
    "## COUNT\n",
    "데이터의 개수를 확인하고 싶을 때 사용합니다.  \n",
    "**NULL인 데이터를 제외하고 셉니다**  \n",
    "`SELECT COUNT(컬럼) FROM 테이블`"
   ]
  },
  {
   "cell_type": "code",
   "execution_count": 8,
   "metadata": {},
   "outputs": [
    {
     "data": {
      "text/html": [
       "<table>\n",
       "    <thead>\n",
       "        <tr>\n",
       "            <th>COUNT(korean)</th>\n",
       "        </tr>\n",
       "    </thead>\n",
       "    <tbody>\n",
       "        <tr>\n",
       "            <td>3</td>\n",
       "        </tr>\n",
       "    </tbody>\n",
       "</table>"
      ],
      "text/plain": [
       "+---------------+\n",
       "| COUNT(korean) |\n",
       "+---------------+\n",
       "|       3       |\n",
       "+---------------+"
      ]
     },
     "execution_count": 8,
     "metadata": {},
     "output_type": "execute_result"
    }
   ],
   "source": [
    "# 국어 점수 중 NULL인 값을 제외하고 COUNT\n",
    "cur.execute(\n",
    "            \"\"\"\n",
    "            SELECT COUNT(korean)\n",
    "            FROM score\n",
    "            \"\"\"\n",
    "            )\n",
    "\n",
    "from_db_cursor(cur)"
   ]
  },
  {
   "cell_type": "code",
   "execution_count": 10,
   "metadata": {},
   "outputs": [
    {
     "data": {
      "text/html": [
       "<table>\n",
       "    <thead>\n",
       "        <tr>\n",
       "            <th>COUNT(english)</th>\n",
       "        </tr>\n",
       "    </thead>\n",
       "    <tbody>\n",
       "        <tr>\n",
       "            <td>4</td>\n",
       "        </tr>\n",
       "    </tbody>\n",
       "</table>"
      ],
      "text/plain": [
       "+----------------+\n",
       "| COUNT(english) |\n",
       "+----------------+\n",
       "|       4        |\n",
       "+----------------+"
      ]
     },
     "execution_count": 10,
     "metadata": {},
     "output_type": "execute_result"
    }
   ],
   "source": [
    "# 영어 점수는 NULL인 값이 없어서 전체 레코드 수와 일치\n",
    "cur.execute(\n",
    "            \"\"\"\n",
    "            SELECT COUNT(english)\n",
    "            FROM score\n",
    "            \"\"\"\n",
    "            )\n",
    "\n",
    "from_db_cursor(cur)"
   ]
  },
  {
   "cell_type": "code",
   "execution_count": 11,
   "metadata": {},
   "outputs": [
    {
     "data": {
      "text/html": [
       "<table>\n",
       "    <thead>\n",
       "        <tr>\n",
       "            <th>COUNT(*)</th>\n",
       "        </tr>\n",
       "    </thead>\n",
       "    <tbody>\n",
       "        <tr>\n",
       "            <td>4</td>\n",
       "        </tr>\n",
       "    </tbody>\n",
       "</table>"
      ],
      "text/plain": [
       "+----------+\n",
       "| COUNT(*) |\n",
       "+----------+\n",
       "|    4     |\n",
       "+----------+"
      ]
     },
     "execution_count": 11,
     "metadata": {},
     "output_type": "execute_result"
    }
   ],
   "source": [
    "# 특정 컬럼이 아닌 전체 레코드 수를 세고 싶은 경우 * 사용\n",
    "cur.execute(\n",
    "            \"\"\"\n",
    "            SELECT COUNT(*)\n",
    "            FROM score\n",
    "            \"\"\"\n",
    "            )\n",
    "\n",
    "from_db_cursor(cur)"
   ]
  },
  {
   "cell_type": "markdown",
   "metadata": {},
   "source": [
    "## SUM\n",
    "지정한 컬럼의 합을 구하고 싶은 경우 사용합니다  \n",
    "`SELECT SUM(컬럼) FROM 테이블`"
   ]
  },
  {
   "cell_type": "code",
   "execution_count": 12,
   "metadata": {},
   "outputs": [
    {
     "data": {
      "text/html": [
       "<table>\n",
       "    <thead>\n",
       "        <tr>\n",
       "            <th>SUM(english)</th>\n",
       "        </tr>\n",
       "    </thead>\n",
       "    <tbody>\n",
       "        <tr>\n",
       "            <td>300</td>\n",
       "        </tr>\n",
       "    </tbody>\n",
       "</table>"
      ],
      "text/plain": [
       "+--------------+\n",
       "| SUM(english) |\n",
       "+--------------+\n",
       "|     300      |\n",
       "+--------------+"
      ]
     },
     "execution_count": 12,
     "metadata": {},
     "output_type": "execute_result"
    }
   ],
   "source": [
    "cur.execute(\n",
    "            \"\"\"\n",
    "            SELECT SUM(english)\n",
    "            FROM score\n",
    "            \"\"\"\n",
    "            )\n",
    "\n",
    "from_db_cursor(cur)"
   ]
  },
  {
   "cell_type": "code",
   "execution_count": 13,
   "metadata": {},
   "outputs": [
    {
     "data": {
      "text/html": [
       "<table>\n",
       "    <thead>\n",
       "        <tr>\n",
       "            <th>SUM(korean)</th>\n",
       "        </tr>\n",
       "    </thead>\n",
       "    <tbody>\n",
       "        <tr>\n",
       "            <td>240</td>\n",
       "        </tr>\n",
       "    </tbody>\n",
       "</table>"
      ],
      "text/plain": [
       "+-------------+\n",
       "| SUM(korean) |\n",
       "+-------------+\n",
       "|     240     |\n",
       "+-------------+"
      ]
     },
     "execution_count": 13,
     "metadata": {},
     "output_type": "execute_result"
    }
   ],
   "source": [
    "cur.execute(\n",
    "            \"\"\"\n",
    "            SELECT SUM(korean)\n",
    "            FROM score\n",
    "            \"\"\"\n",
    "            )\n",
    "\n",
    "from_db_cursor(cur)"
   ]
  },
  {
   "cell_type": "markdown",
   "metadata": {},
   "source": [
    "## AVG\n",
    "지정한 컬럼의 평균을 구하고 싶은 경우 사용합니다  \n",
    "`SELECT AGV(컬럼) FROM 테이블`"
   ]
  },
  {
   "cell_type": "code",
   "execution_count": 14,
   "metadata": {},
   "outputs": [
    {
     "data": {
      "text/html": [
       "<table>\n",
       "    <thead>\n",
       "        <tr>\n",
       "            <th>AVG(english)</th>\n",
       "        </tr>\n",
       "    </thead>\n",
       "    <tbody>\n",
       "        <tr>\n",
       "            <td>75.0</td>\n",
       "        </tr>\n",
       "    </tbody>\n",
       "</table>"
      ],
      "text/plain": [
       "+--------------+\n",
       "| AVG(english) |\n",
       "+--------------+\n",
       "|     75.0     |\n",
       "+--------------+"
      ]
     },
     "execution_count": 14,
     "metadata": {},
     "output_type": "execute_result"
    }
   ],
   "source": [
    "cur.execute(\n",
    "            \"\"\"\n",
    "            SELECT AVG(english)\n",
    "            FROM score\n",
    "            \"\"\"\n",
    "            )\n",
    "\n",
    "from_db_cursor(cur)"
   ]
  },
  {
   "cell_type": "markdown",
   "metadata": {},
   "source": [
    "## MAX\n",
    "지정한 컬럼에서 최댓값을 구하고 싶은 경우 사용합니다.  \n",
    "숫자형 뿐만 아니라 문자형에서도 사용 가능합니다  \n",
    "`SELECT MAX(컬럼) FROM 테이블`"
   ]
  },
  {
   "cell_type": "code",
   "execution_count": 17,
   "metadata": {},
   "outputs": [
    {
     "data": {
      "text/html": [
       "<table>\n",
       "    <thead>\n",
       "        <tr>\n",
       "            <th>MAX(english)</th>\n",
       "        </tr>\n",
       "    </thead>\n",
       "    <tbody>\n",
       "        <tr>\n",
       "            <td>100</td>\n",
       "        </tr>\n",
       "    </tbody>\n",
       "</table>"
      ],
      "text/plain": [
       "+--------------+\n",
       "| MAX(english) |\n",
       "+--------------+\n",
       "|     100      |\n",
       "+--------------+"
      ]
     },
     "execution_count": 17,
     "metadata": {},
     "output_type": "execute_result"
    }
   ],
   "source": [
    "cur.execute(\n",
    "            \"\"\"\n",
    "            SELECT MAX(english)\n",
    "            FROM score\n",
    "            \"\"\"\n",
    "            )\n",
    "\n",
    "from_db_cursor(cur)"
   ]
  },
  {
   "cell_type": "code",
   "execution_count": 18,
   "metadata": {},
   "outputs": [
    {
     "data": {
      "text/html": [
       "<table>\n",
       "    <thead>\n",
       "        <tr>\n",
       "            <th>MAX(name)</th>\n",
       "        </tr>\n",
       "    </thead>\n",
       "    <tbody>\n",
       "        <tr>\n",
       "            <td>Olivia</td>\n",
       "        </tr>\n",
       "    </tbody>\n",
       "</table>"
      ],
      "text/plain": [
       "+-----------+\n",
       "| MAX(name) |\n",
       "+-----------+\n",
       "|   Olivia  |\n",
       "+-----------+"
      ]
     },
     "execution_count": 18,
     "metadata": {},
     "output_type": "execute_result"
    }
   ],
   "source": [
    "# 문자형에서도 사용 가능\n",
    "cur.execute(\n",
    "            \"\"\"\n",
    "            SELECT MAX(name)\n",
    "            FROM score\n",
    "            \"\"\"\n",
    "            )\n",
    "\n",
    "from_db_cursor(cur)"
   ]
  },
  {
   "cell_type": "markdown",
   "metadata": {},
   "source": [
    "## MIN\n",
    "지정한 컬럼에서 최솟값을 구하고 싶은 경우 사용합니다.  \n",
    "숫자형 뿐만 아니라 문자형에서도 사용 가능합니다.  \n",
    "`SELECT MIN(컬럼) FROM 테이블`"
   ]
  },
  {
   "cell_type": "code",
   "execution_count": 19,
   "metadata": {},
   "outputs": [
    {
     "data": {
      "text/html": [
       "<table>\n",
       "    <thead>\n",
       "        <tr>\n",
       "            <th>MIN(english)</th>\n",
       "        </tr>\n",
       "    </thead>\n",
       "    <tbody>\n",
       "        <tr>\n",
       "            <td>30</td>\n",
       "        </tr>\n",
       "    </tbody>\n",
       "</table>"
      ],
      "text/plain": [
       "+--------------+\n",
       "| MIN(english) |\n",
       "+--------------+\n",
       "|      30      |\n",
       "+--------------+"
      ]
     },
     "execution_count": 19,
     "metadata": {},
     "output_type": "execute_result"
    }
   ],
   "source": [
    "cur.execute(\n",
    "            \"\"\"\n",
    "            SELECT MIN(english)\n",
    "            FROM score\n",
    "            \"\"\"\n",
    "            )\n",
    "\n",
    "from_db_cursor(cur)"
   ]
  },
  {
   "cell_type": "code",
   "execution_count": 20,
   "metadata": {},
   "outputs": [
    {
     "data": {
      "text/html": [
       "<table>\n",
       "    <thead>\n",
       "        <tr>\n",
       "            <th>MIN(name)</th>\n",
       "        </tr>\n",
       "    </thead>\n",
       "    <tbody>\n",
       "        <tr>\n",
       "            <td>Amy</td>\n",
       "        </tr>\n",
       "    </tbody>\n",
       "</table>"
      ],
      "text/plain": [
       "+-----------+\n",
       "| MIN(name) |\n",
       "+-----------+\n",
       "|    Amy    |\n",
       "+-----------+"
      ]
     },
     "execution_count": 20,
     "metadata": {},
     "output_type": "execute_result"
    }
   ],
   "source": [
    "# 문자형에서도 사용 가능\n",
    "cur.execute(\n",
    "            \"\"\"\n",
    "            SELECT MIN(name)\n",
    "            FROM score\n",
    "            \"\"\"\n",
    "            )\n",
    "\n",
    "from_db_cursor(cur)"
   ]
  }
 ],
 "metadata": {
  "kernelspec": {
   "display_name": "__venv__",
   "language": "python",
   "name": "python3"
  },
  "language_info": {
   "codemirror_mode": {
    "name": "ipython",
    "version": 3
   },
   "file_extension": ".py",
   "mimetype": "text/x-python",
   "name": "python",
   "nbconvert_exporter": "python",
   "pygments_lexer": "ipython3",
   "version": "3.10.11"
  }
 },
 "nbformat": 4,
 "nbformat_minor": 2
}
