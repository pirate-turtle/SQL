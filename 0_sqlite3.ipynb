{
 "cells": [
  {
   "cell_type": "markdown",
   "metadata": {},
   "source": [
    "# sqlite3\n",
    "Python에서는 sqlite3 라이브러리를 기본적으로 제공합니다."
   ]
  },
  {
   "cell_type": "code",
   "execution_count": 3,
   "metadata": {},
   "outputs": [],
   "source": [
    "import sqlite3"
   ]
  },
  {
   "cell_type": "markdown",
   "metadata": {},
   "source": [
    "## 연결 생성\n",
    "sqlite3 모듈을 사용하기 위해서는 먼저 Connection 객체를 생성하여 데이터베이스에 연결해야합니다.\n"
   ]
  },
  {
   "cell_type": "code",
   "execution_count": 4,
   "metadata": {},
   "outputs": [],
   "source": [
    "# 원하는 파일명 지정 (존재하지 않는 파일인경우 생성됨)\n",
    "con = sqlite3.connect('./database/example.db')\n",
    "\n",
    "# 실제 파일 경로 대신 :memory: 를 넘기면 RAM에 임시로 데이터베이스가 생성됨\n",
    "# con = sqlite3.connect(':memory:')"
   ]
  },
  {
   "cell_type": "markdown",
   "metadata": {},
   "source": [
    "## SQL 실행\n",
    "Connection 객체를 생성한 다음 Cursor 오브젝트를 생성하여 SQL문을 실행할 수 있도록 합니다."
   ]
  },
  {
   "cell_type": "code",
   "execution_count": 5,
   "metadata": {},
   "outputs": [
    {
     "data": {
      "text/plain": [
<<<<<<< HEAD
       "<sqlite3.Cursor at 0x1d459050420>"
=======
       "<sqlite3.Cursor at 0x268805b27a0>"
>>>>>>> 02dfa2d83e6274778560ac6805d98fca0255d982
      ]
     },
     "execution_count": 5,
     "metadata": {},
     "output_type": "execute_result"
    }
   ],
   "source": [
    "# Cursor 생성\n",
    "cur = con.cursor()\n",
    "\n",
    "# 테이블이 이미 있다면 삭제\n",
    "cur.execute(\"DROP TABLE IF EXISTS student\")\n",
    "\n",
    "# 테이블 생성\n",
    "cur.execute(\"\"\"\n",
    "    CREATE TABLE student(\n",
    "        first_name text,\n",
    "        last_name text,\n",
    "        age integer\n",
    "    )\n",
    "    \"\"\")\n",
    "\n",
    "# 데이터 삽입\n",
    "# execute 함수는 한번에 하나의 SQL문만 실행 가능\n",
    "cur.execute(\"INSERT INTO student VALUES ('Tomas', 'Train', 10)\")\n",
    "cur.execute(\"INSERT INTO student VALUES ('Bean', 'Green', 1)\")"
   ]
  },
  {
   "cell_type": "code",
   "execution_count": 6,
   "metadata": {},
   "outputs": [
    {
     "ename": "Warning",
     "evalue": "You can only execute one statement at a time.",
     "output_type": "error",
     "traceback": [
      "\u001b[1;31m---------------------------------------------------------------------------\u001b[0m",
      "\u001b[1;31mWarning\u001b[0m                                   Traceback (most recent call last)",
<<<<<<< HEAD
      "\u001b[1;32m~\\AppData\\Local\\Temp/ipykernel_16564/2793874112.py\u001b[0m in \u001b[0;36m<module>\u001b[1;34m\u001b[0m\n\u001b[0;32m      3\u001b[0m             \u001b[0mINSERT\u001b[0m \u001b[0mINTO\u001b[0m \u001b[0mstudent\u001b[0m \u001b[0mVALUES\u001b[0m \u001b[1;33m(\u001b[0m\u001b[1;34m'Tomas'\u001b[0m\u001b[1;33m,\u001b[0m \u001b[1;34m'Train'\u001b[0m\u001b[1;33m,\u001b[0m \u001b[1;36m10\u001b[0m\u001b[1;33m)\u001b[0m\u001b[1;33m;\u001b[0m\u001b[1;33m\u001b[0m\u001b[1;33m\u001b[0m\u001b[0m\n\u001b[0;32m      4\u001b[0m             \u001b[0mINSERT\u001b[0m \u001b[0mINTO\u001b[0m \u001b[0mstudent\u001b[0m \u001b[0mVALUES\u001b[0m \u001b[1;33m(\u001b[0m\u001b[1;34m'Bean'\u001b[0m\u001b[1;33m,\u001b[0m \u001b[1;34m'Green'\u001b[0m\u001b[1;33m,\u001b[0m \u001b[1;36m1\u001b[0m\u001b[1;33m)\u001b[0m\u001b[1;33m;\u001b[0m\u001b[1;33m\u001b[0m\u001b[1;33m\u001b[0m\u001b[0m\n\u001b[1;32m----> 5\u001b[1;33m             \"\"\")\n\u001b[0m",
=======
      "\u001b[1;32m~\\AppData\\Local\\Temp/ipykernel_6804/2793874112.py\u001b[0m in \u001b[0;36m<module>\u001b[1;34m\u001b[0m\n\u001b[0;32m      3\u001b[0m             \u001b[0mINSERT\u001b[0m \u001b[0mINTO\u001b[0m \u001b[0mstudent\u001b[0m \u001b[0mVALUES\u001b[0m \u001b[1;33m(\u001b[0m\u001b[1;34m'Tomas'\u001b[0m\u001b[1;33m,\u001b[0m \u001b[1;34m'Train'\u001b[0m\u001b[1;33m,\u001b[0m \u001b[1;36m10\u001b[0m\u001b[1;33m)\u001b[0m\u001b[1;33m;\u001b[0m\u001b[1;33m\u001b[0m\u001b[1;33m\u001b[0m\u001b[0m\n\u001b[0;32m      4\u001b[0m             \u001b[0mINSERT\u001b[0m \u001b[0mINTO\u001b[0m \u001b[0mstudent\u001b[0m \u001b[0mVALUES\u001b[0m \u001b[1;33m(\u001b[0m\u001b[1;34m'Bean'\u001b[0m\u001b[1;33m,\u001b[0m \u001b[1;34m'Green'\u001b[0m\u001b[1;33m,\u001b[0m \u001b[1;36m1\u001b[0m\u001b[1;33m)\u001b[0m\u001b[1;33m;\u001b[0m\u001b[1;33m\u001b[0m\u001b[1;33m\u001b[0m\u001b[0m\n\u001b[1;32m----> 5\u001b[1;33m             \"\"\")\n\u001b[0m",
>>>>>>> 02dfa2d83e6274778560ac6805d98fca0255d982
      "\u001b[1;31mWarning\u001b[0m: You can only execute one statement at a time."
     ]
    }
   ],
   "source": [
    "# 한번에 여러개를 실행하려고 하면 에러 발생\n",
    "cur.execute(\"\"\"\n",
    "            INSERT INTO student VALUES ('Tomas', 'Train', 10);\n",
    "            INSERT INTO student VALUES ('Bean', 'Green', 1);\n",
    "            \"\"\")"
   ]
  },
  {
   "cell_type": "code",
   "execution_count": 7,
   "metadata": {},
   "outputs": [
    {
     "data": {
      "text/plain": [
<<<<<<< HEAD
       "<sqlite3.Cursor at 0x1d459050420>"
=======
       "<sqlite3.Cursor at 0x268805b27a0>"
>>>>>>> 02dfa2d83e6274778560ac6805d98fca0255d982
      ]
     },
     "execution_count": 7,
     "metadata": {},
     "output_type": "execute_result"
    }
   ],
   "source": [
    "# 한번에 여러 SQL문을 실행하고 싶은 경우 executescript 사용하기\n",
    "cur.executescript(\"\"\"\n",
    "    DROP TABLE IF EXISTS teacher;\n",
    "    DROP TABLE IF EXISTS book;\n",
    "\n",
    "    CREATE TABLE teacher(\n",
    "        firstname,\n",
    "        lastname,\n",
    "        age\n",
    "    );\n",
    "\n",
    "    CREATE TABLE book(\n",
    "        title,\n",
    "        author,\n",
    "        published\n",
    "    );\n",
    "\n",
    "    INSERT INTO book(title, author, published)\n",
    "    VALUES (\n",
    "        'Dirk Gently''s Holistic Detective Agency',\n",
    "        'Douglas Adams',\n",
    "        1987\n",
    "    );\n",
    "    \"\"\")"
   ]
  },
  {
   "cell_type": "code",
   "execution_count": 8,
   "metadata": {},
   "outputs": [
    {
     "data": {
      "text/plain": [
       "[('Tomas', 'Train', 10),\n",
       " ('Bean', 'Green', 1),\n",
       " ('Bee', 'Honey', 3),\n",
       " ('Bee', 'Zig', 5),\n",
       " ('Bob', 'Sponge', 7)]"
      ]
     },
     "execution_count": 8,
     "metadata": {},
     "output_type": "execute_result"
    }
   ],
   "source": [
    "# 같은 형식의 SQL문에 데이터만 바꿔서 여러번 실행하고 싶은 경우,\n",
    "# executemany와 제너레이터를 조합하면 좋다\n",
    "# 메모리에 모두 올라가는 적은 양의 데이터라면 그냥 리스트로 넘겨도 될듯\n",
    "def data_generator():\n",
    "    datas = [\n",
    "                ['Bee', 'Honey', 3],\n",
    "                ['Bee', 'Zig', 5], \n",
    "                ['Bob', 'Sponge', 7]\n",
    "            ]\n",
    "    for data in datas:\n",
    "        yield data\n",
    "\n",
    "cur.executemany(\"INSERT INTO student VALUES (?, ?, ?)\", data_generator())\n",
    "cur.execute(\"SELECT * FROM student\")\n",
    "cur.fetchall()"
   ]
  },
  {
   "cell_type": "markdown",
   "metadata": {},
   "source": [
    "### 결과 조회\n",
    "SQL 결과를 조회하기 위해서는 Cursor 객체를 iterator로 활용하는 방법,  \n",
    "fetchone, fetchmany, fetchall 함수를 이용하는 방법이 있습니다.\n"
   ]
  },
  {
   "cell_type": "code",
   "execution_count": 9,
   "metadata": {},
   "outputs": [
    {
     "name": "stdout",
     "output_type": "stream",
     "text": [
      "('Tomas', 'Train', 10)\n",
      "('Bean', 'Green', 1)\n"
     ]
    }
   ],
   "source": [
    "# Cursor는 iterator객체이므로 순차적으로 값을 불러올 수 있다\n",
    "cur.execute(\"SELECT * FROM student\").rowcount\n",
    "\n",
    "print(next(cur))\n",
    "print(next(cur))"
   ]
  },
  {
   "cell_type": "code",
   "execution_count": 10,
   "metadata": {},
   "outputs": [
    {
     "data": {
      "text/plain": [
       "True"
      ]
     },
     "execution_count": 10,
     "metadata": {},
     "output_type": "execute_result"
    }
   ],
   "source": [
    "# SQL 실행하면 동일한 cursor 객체를 리턴해준다\n",
    "cur.execute(\"SELECT * FROM student\") is cur"
   ]
  },
  {
   "cell_type": "code",
   "execution_count": 11,
   "metadata": {},
   "outputs": [
    {
     "name": "stdout",
     "output_type": "stream",
     "text": [
      "('Tomas', 'Train', 10)\n",
      "('Bean', 'Green', 1)\n",
      "('Bee', 'Honey', 3)\n",
      "('Bee', 'Zig', 5)\n",
      "('Bob', 'Sponge', 7)\n"
     ]
    }
   ],
   "source": [
    "# 그래서 이렇게 바로 for문에 넣는것도 가능!\n",
    "for row in cur.execute(\"SELECT * FROM student\"):\n",
    "    print(row)"
   ]
  },
  {
   "cell_type": "markdown",
   "metadata": {},
   "source": [
    "fetchone, fetchmany, fetchall 함수를 이용하여 결과를 가져올 경우,  \n",
    "이미 조회한 데이터는 다시 함수를 호출해도 조회할 수 없습니다. (다음 데이터부터 가져옴)  \n",
    "다시 조회하고 싶다면 SQL문을 다시 실행해야합니다."
   ]
  },
  {
   "cell_type": "code",
   "execution_count": 12,
   "metadata": {},
   "outputs": [
    {
     "data": {
      "text/plain": [
       "('Tomas', 'Train', 10)"
      ]
     },
     "execution_count": 12,
     "metadata": {},
     "output_type": "execute_result"
    }
   ],
   "source": [
    "# fetchone은 실행결과 중 하나의 행만 가져온다\n",
    "cur.execute(\"SELECT * FROM student\")\n",
    "cur.fetchone()"
   ]
  },
  {
   "cell_type": "code",
   "execution_count": 13,
   "metadata": {},
   "outputs": [
    {
     "data": {
      "text/plain": [
       "('Bean', 'Green', 1)"
      ]
     },
     "execution_count": 13,
     "metadata": {},
     "output_type": "execute_result"
    }
   ],
   "source": [
    "# 한번 더 호출해보면 그 다음 행을 가져온다\n",
    "cur.fetchone()"
   ]
  },
  {
   "cell_type": "code",
   "execution_count": 14,
   "metadata": {},
   "outputs": [
    {
     "data": {
      "text/plain": [
       "[('Bee', 'Honey', 3), ('Bee', 'Zig', 5), ('Bob', 'Sponge', 7)]"
      ]
     },
     "execution_count": 14,
     "metadata": {},
     "output_type": "execute_result"
    }
   ],
   "source": [
    "# fetchmany는 실행 결과 중 원하는 개수의 행을 가져올 수 있다\n",
    "# 원하는 개수보다 적은 행이 남아있으면 남은 행만큼만 가져온다\n",
    "cur.fetchmany(5)"
   ]
  },
  {
   "cell_type": "code",
   "execution_count": 15,
   "metadata": {},
   "outputs": [
    {
     "data": {
      "text/plain": [
       "[]"
      ]
     },
     "execution_count": 15,
     "metadata": {},
     "output_type": "execute_result"
    }
   ],
   "source": [
    "# fetchall은 실행 결과 중 남아있는 모든 행을 가져온다\n",
    "# 남아있는 행이 없으면 빈 리스트 리턴\n",
    "cur.fetchall()"
   ]
  },
  {
   "cell_type": "code",
   "execution_count": 16,
   "metadata": {},
   "outputs": [
    {
     "data": {
      "text/plain": [
       "[('Tomas', 'Train', 10),\n",
       " ('Bean', 'Green', 1),\n",
       " ('Bee', 'Honey', 3),\n",
       " ('Bee', 'Zig', 5),\n",
       " ('Bob', 'Sponge', 7)]"
      ]
     },
     "execution_count": 16,
     "metadata": {},
     "output_type": "execute_result"
    }
   ],
   "source": [
    "# 다시 조회하고 싶으면 SQL문을 다시 실행해야한다\n",
    "cur.execute(\"SELECT * FROM student\")\n",
    "cur.fetchall()"
   ]
  },
  {
   "cell_type": "markdown",
   "metadata": {},
   "source": [
    "### 변경사항 저장\n",
    "Connection객체의 commit함수로 변경사항을 저장할 수 있습니다."
   ]
  },
  {
   "cell_type": "code",
   "execution_count": 17,
   "metadata": {},
   "outputs": [
    {
     "name": "stdout",
     "output_type": "stream",
     "text": [
      "('Tomas', 'Train', 10)\n",
      "('Bean', 'Green', 1)\n",
      "('Bee', 'Honey', 3)\n",
      "('Bee', 'Zig', 5)\n",
      "('Bob', 'Sponge', 7)\n"
     ]
    }
   ],
   "source": [
    "# commit으로 변경사항 저장\n",
    "con.commit()\n",
    "\n",
    "# 다시 연결한 다음 확인해보기\n",
    "con.close()\n",
    "\n",
    "con = sqlite3.connect('./database/example.db')\n",
    "cur = con.cursor()\n",
    "\n",
    "# 변경사항이 저장됐다\n",
    "for row in cur.execute(\"SELECT * FROM student\"):\n",
    "    print(row)"
   ]
  },
  {
   "cell_type": "markdown",
   "metadata": {},
   "source": [
    "## 테이블 보기 좋게 출력하기"
   ]
  },
  {
   "cell_type": "markdown",
   "metadata": {},
   "source": [
    "### prettytable\n",
    "이번 프로젝트에서는 prettytable 모듈을 활용했습니다.  \n",
    "pandas를 활용해도 좋겠지만 단순히 SQL 실행 결과만 확인할 것이기 때문에 prettytable로도 충분합니다."
   ]
  },
  {
   "cell_type": "code",
   "execution_count": 18,
   "metadata": {},
   "outputs": [
    {
     "name": "stdout",
     "output_type": "stream",
     "text": [
      "Version: 3.3.0\n"
     ]
    }
   ],
   "source": [
    "# prettytable 모듈 버전 확인\n",
    "!pip show prettytable | findstr Version\n",
    "\n",
    "# 리눅스 환경에서는 findstr 말고 grep 사용하기\n",
    "# !pip show prettytable | grep Version\n",
    "\n",
    "# 모듈 없는 경우 주석 해제하고 설치하기\n",
    "# !pip install prettytable"
   ]
  },
  {
   "cell_type": "markdown",
   "metadata": {},
   "source": [
    "Python DB-API를 통해 지원되는 DB모듈의 경우 Cursor 객체를 바로 테이블로 만들 수 있습니다"
   ]
  },
  {
   "cell_type": "code",
   "execution_count": 19,
   "metadata": {},
   "outputs": [
    {
     "data": {
      "text/html": [
       "<table>\n",
       "    <thead>\n",
       "        <tr>\n",
       "            <th>first_name</th>\n",
       "            <th>last_name</th>\n",
       "            <th>age</th>\n",
       "        </tr>\n",
       "    </thead>\n",
       "    <tbody>\n",
       "        <tr>\n",
       "            <td>Tomas</td>\n",
       "            <td>Train</td>\n",
       "            <td>10</td>\n",
       "        </tr>\n",
       "        <tr>\n",
       "            <td>Bean</td>\n",
       "            <td>Green</td>\n",
       "            <td>1</td>\n",
       "        </tr>\n",
       "        <tr>\n",
       "            <td>Bee</td>\n",
       "            <td>Honey</td>\n",
       "            <td>3</td>\n",
       "        </tr>\n",
       "        <tr>\n",
       "            <td>Bee</td>\n",
       "            <td>Zig</td>\n",
       "            <td>5</td>\n",
       "        </tr>\n",
       "        <tr>\n",
       "            <td>Bob</td>\n",
       "            <td>Sponge</td>\n",
       "            <td>7</td>\n",
       "        </tr>\n",
       "    </tbody>\n",
       "</table>"
      ],
      "text/plain": [
       "+------------+-----------+-----+\n",
       "| first_name | last_name | age |\n",
       "+------------+-----------+-----+\n",
       "|   Tomas    |   Train   |  10 |\n",
       "|    Bean    |   Green   |  1  |\n",
       "|    Bee     |   Honey   |  3  |\n",
       "|    Bee     |    Zig    |  5  |\n",
       "|    Bob     |   Sponge  |  7  |\n",
       "+------------+-----------+-----+"
      ]
     },
     "execution_count": 19,
     "metadata": {},
     "output_type": "execute_result"
    }
   ],
   "source": [
    "from prettytable import from_db_cursor\n",
    "\n",
    "cur.execute(\"SELECT * FROM student\")\n",
    "from_db_cursor(cur)"
   ]
  },
  {
   "cell_type": "markdown",
   "metadata": {},
   "source": [
    "### 컬럼명 (필드명)\n",
    "prettytable 모듈을 거치지 않고 특정 테이블의 컬럼명을 알고 싶은 경우 2가지 방법이 있습니다.  \n",
    "* PARAGMA 키워드로 스키마 확인하기\n",
    "* Conncetion 객체에 Row 객체 연결하기"
   ]
  },
  {
   "cell_type": "markdown",
   "metadata": {},
   "source": [
    "스키마에서 컬럼명을 확인하는 경우, 특정 인덱스의 열만 가져오는 작업이 필요합니다."
   ]
  },
  {
   "cell_type": "code",
   "execution_count": 20,
   "metadata": {},
   "outputs": [
    {
     "data": {
      "text/plain": [
       "[(0, 'first_name', 'text', 0, None, 0),\n",
       " (1, 'last_name', 'text', 0, None, 0),\n",
       " (2, 'age', 'integer', 0, None, 0)]"
      ]
     },
     "execution_count": 20,
     "metadata": {},
     "output_type": "execute_result"
    }
   ],
   "source": [
    "# PRAGMA 키워드로 스키마 확인\n",
    "cur.execute(\"PRAGMA table_info('student')\")\n",
    "schema = cur.fetchall()\n",
    "schema"
   ]
  },
  {
   "cell_type": "code",
   "execution_count": 21,
   "metadata": {},
   "outputs": [
    {
     "data": {
      "text/plain": [
       "['first_name', 'last_name', 'age']"
      ]
     },
     "execution_count": 21,
     "metadata": {},
     "output_type": "execute_result"
    }
   ],
   "source": [
    "# 컬럼명만 가져오기\n",
    "col_names = list(map(lambda x: x[1], schema))\n",
    "col_names"
   ]
  },
  {
   "cell_type": "markdown",
   "metadata": {},
   "source": [
    "Row 객체를 연결하면 더 쉽게 접근이 가능합니다.  \n",
    "SQL 실행 결과가 Row 객체로 오게 되는데, keys() 함수로 편리하게 컬럼명을 얻을 수 있습니다."
   ]
  },
  {
   "cell_type": "code",
   "execution_count": 22,
   "metadata": {},
   "outputs": [
    {
     "name": "stdout",
     "output_type": "stream",
     "text": [
      "col_name:  ['first_name', 'last_name', 'age']\n"
     ]
    }
   ],
   "source": [
    "# Row 객체 연결\n",
    "con.row_factory = sqlite3.Row\n",
    "\n",
    "# ※연결 후 Cursor 객체를 다시 생성해줘야 함\n",
    "cur = con.cursor()\n",
    "cur.execute(\"SELECT * FROM student\")\n",
    "row = cur.fetchone()\n",
    "\n",
    "# 컬럼명 확인하기\n",
    "print('col_name: ', row.keys())"
   ]
  },
  {
   "cell_type": "code",
   "execution_count": 23,
   "metadata": {},
   "outputs": [
    {
     "name": "stdout",
     "output_type": "stream",
     "text": [
<<<<<<< HEAD
      "<sqlite3.Row object at 0x000001D459163CD0>\n"
=======
      "<sqlite3.Row object at 0x0000026880707C10>\n"
>>>>>>> 02dfa2d83e6274778560ac6805d98fca0255d982
     ]
    }
   ],
   "source": [
    "# SQL 실행 결과는 Row 객체가 리턴됨\n",
    "print(row)"
   ]
  },
  {
   "cell_type": "code",
   "execution_count": 24,
   "metadata": {},
   "outputs": [
    {
     "name": "stdout",
     "output_type": "stream",
     "text": [
      "Train\n",
      "('Tomas', 'Train', 10)\n"
     ]
    }
   ],
   "source": [
    "# 컬럼명으로 특정 값에 접근 가능\n",
    "cur.execute(\"\"\"SELECT * FROM student\"\"\")\n",
    "row = cur.fetchone()\n",
    "print(row['last_name'])\n",
    "\n",
    "# 행 데이터를 확인하기 위해 형변환\n",
    "# dict나 list 타입도 가능하지만 값 변경 못하게 tuple로 변환해보기\n",
    "print(tuple(row))"
   ]
  },
  {
   "cell_type": "markdown",
   "metadata": {},
   "source": [
    "## sqlite_master\n",
    "DB 파일의 테이블에 관한 정보는 마스터 테이블인 sqlite_master에 저장됩니다."
   ]
  },
  {
   "cell_type": "code",
   "execution_count": 25,
   "metadata": {},
   "outputs": [
    {
     "data": {
      "text/html": [
       "<table>\n",
       "    <thead>\n",
       "        <tr>\n",
       "            <th>cid</th>\n",
       "            <th>name</th>\n",
       "            <th>type</th>\n",
       "            <th>notnull</th>\n",
       "            <th>dflt_value</th>\n",
       "            <th>pk</th>\n",
       "        </tr>\n",
       "    </thead>\n",
       "    <tbody>\n",
       "        <tr>\n",
       "            <td>0</td>\n",
       "            <td>type</td>\n",
       "            <td>text</td>\n",
       "            <td>0</td>\n",
       "            <td>None</td>\n",
       "            <td>0</td>\n",
       "        </tr>\n",
       "        <tr>\n",
       "            <td>1</td>\n",
       "            <td>name</td>\n",
       "            <td>text</td>\n",
       "            <td>0</td>\n",
       "            <td>None</td>\n",
       "            <td>0</td>\n",
       "        </tr>\n",
       "        <tr>\n",
       "            <td>2</td>\n",
       "            <td>tbl_name</td>\n",
       "            <td>text</td>\n",
       "            <td>0</td>\n",
       "            <td>None</td>\n",
       "            <td>0</td>\n",
       "        </tr>\n",
       "        <tr>\n",
       "            <td>3</td>\n",
       "            <td>rootpage</td>\n",
       "            <td>int</td>\n",
       "            <td>0</td>\n",
       "            <td>None</td>\n",
       "            <td>0</td>\n",
       "        </tr>\n",
       "        <tr>\n",
       "            <td>4</td>\n",
       "            <td>sql</td>\n",
       "            <td>text</td>\n",
       "            <td>0</td>\n",
       "            <td>None</td>\n",
       "            <td>0</td>\n",
       "        </tr>\n",
       "    </tbody>\n",
       "</table>"
      ],
      "text/plain": [
       "+-----+----------+------+---------+------------+----+\n",
       "| cid |   name   | type | notnull | dflt_value | pk |\n",
       "+-----+----------+------+---------+------------+----+\n",
       "|  0  |   type   | text |    0    |    None    | 0  |\n",
       "|  1  |   name   | text |    0    |    None    | 0  |\n",
       "|  2  | tbl_name | text |    0    |    None    | 0  |\n",
       "|  3  | rootpage | int  |    0    |    None    | 0  |\n",
       "|  4  |   sql    | text |    0    |    None    | 0  |\n",
       "+-----+----------+------+---------+------------+----+"
      ]
     },
     "execution_count": 25,
     "metadata": {},
     "output_type": "execute_result"
    }
   ],
   "source": [
    "# sqlite_master 스키마 확인해보기\n",
    "cur.execute(\"PRAGMA table_info('sqlite_master')\")\n",
    "from_db_cursor(cur)"
   ]
  },
  {
   "cell_type": "code",
   "execution_count": 26,
   "metadata": {},
   "outputs": [
    {
     "data": {
      "text/html": [
       "<table>\n",
       "    <thead>\n",
       "        <tr>\n",
       "            <th>type</th>\n",
       "            <th>name</th>\n",
       "            <th>tbl_name</th>\n",
       "            <th>rootpage</th>\n",
       "            <th>sql</th>\n",
       "        </tr>\n",
       "    </thead>\n",
       "    <tbody>\n",
       "        <tr>\n",
       "            <td>table</td>\n",
       "            <td>student</td>\n",
       "            <td>student</td>\n",
       "            <td>2</td>\n",
       "            <td>CREATE TABLE student(<br>        first_name text,<br>        last_name text,<br>        age integer<br>    )</td>\n",
       "        </tr>\n",
       "        <tr>\n",
       "            <td>table</td>\n",
       "            <td>teacher</td>\n",
       "            <td>teacher</td>\n",
       "            <td>4</td>\n",
       "            <td>CREATE TABLE teacher(<br>        firstname,<br>        lastname,<br>        age<br>    )</td>\n",
       "        </tr>\n",
       "        <tr>\n",
       "            <td>table</td>\n",
       "            <td>book</td>\n",
       "            <td>book</td>\n",
       "            <td>3</td>\n",
       "            <td>CREATE TABLE book(<br>        title,<br>        author,<br>        published<br>    )</td>\n",
       "        </tr>\n",
       "    </tbody>\n",
       "</table>"
      ],
      "text/plain": [
       "+-------+---------+----------+----------+--------------------------+\n",
       "|  type |   name  | tbl_name | rootpage |           sql            |\n",
       "+-------+---------+----------+----------+--------------------------+\n",
       "| table | student | student  |    2     |  CREATE TABLE student(   |\n",
       "|       |         |          |          |         first_name text, |\n",
       "|       |         |          |          |         last_name text,  |\n",
       "|       |         |          |          |           age integer    |\n",
       "|       |         |          |          |              )           |\n",
       "| table | teacher | teacher  |    4     |  CREATE TABLE teacher(   |\n",
       "|       |         |          |          |            firstname,    |\n",
       "|       |         |          |          |            lastname,     |\n",
       "|       |         |          |          |               age        |\n",
       "|       |         |          |          |              )           |\n",
       "| table |   book  |   book   |    3     |    CREATE TABLE book(    |\n",
       "|       |         |          |          |              title,      |\n",
       "|       |         |          |          |             author,      |\n",
       "|       |         |          |          |            published     |\n",
       "|       |         |          |          |              )           |\n",
       "+-------+---------+----------+----------+--------------------------+"
      ]
     },
     "execution_count": 26,
     "metadata": {},
     "output_type": "execute_result"
    }
   ],
   "source": [
    "# 생성된 데이터베이스에 대한 정보가 저장되어있다\n",
    "cur.execute(\"SELECT * FROM sqlite_master\")\n",
    "from_db_cursor(cur)"
   ]
  }
 ],
 "metadata": {
  "kernelspec": {
   "display_name": "Python 3.7.11 ('serving')",
   "language": "python",
   "name": "python3"
  },
  "language_info": {
   "codemirror_mode": {
    "name": "ipython",
    "version": 3
   },
   "file_extension": ".py",
   "mimetype": "text/x-python",
   "name": "python",
   "nbconvert_exporter": "python",
   "pygments_lexer": "ipython3",
   "version": "3.7.11"
  },
  "orig_nbformat": 4,
  "vscode": {
   "interpreter": {
    "hash": "78c2f73d8f598d4660a3f0c563015f91d2aa7e288f16a9eb14acf27163dbf34d"
   }
  }
 },
 "nbformat": 4,
 "nbformat_minor": 2
}
