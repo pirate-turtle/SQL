{
 "cells": [
  {
   "cell_type": "markdown",
   "metadata": {},
   "source": [
    "# sqlite3\n",
    "Python에서는 sqlite3 라이브러리를 기본적으로 제공합니다."
   ]
  },
  {
   "cell_type": "code",
   "execution_count": 1,
   "metadata": {},
   "outputs": [],
   "source": [
    "import sqlite3"
   ]
  },
  {
   "cell_type": "markdown",
   "metadata": {},
   "source": [
    "## 연결 생성\n",
    "sqlite3 모듈을 사용하기 위해서는 먼저 Connection 객체를 생성하여 데이터베이스에 연결해야합니다.\n"
   ]
  },
  {
   "cell_type": "code",
   "execution_count": 2,
   "metadata": {},
   "outputs": [],
   "source": [
    "# 원하는 파일명 지정 (존재하지 않는 파일인경우 생성됨)\n",
    "con = sqlite3.connect('./database/example.db')\n",
    "\n",
    "# 실제 파일 경로 대신 :memory: 를 넘기면 RAM에 임시로 데이터베이스가 생성됨\n",
    "# con = sqlite3.connect(':memory:')"
   ]
  },
  {
   "cell_type": "markdown",
   "metadata": {},
   "source": [
    "## SQL 실행\n",
    "Connection 객체를 생성한 다음 Cursor 오브젝트를 생성하여 SQL문을 실행할 수 있도록 합니다."
   ]
  },
  {
   "cell_type": "code",
   "execution_count": 3,
   "metadata": {},
   "outputs": [
    {
     "data": {
      "text/plain": [
       "<sqlite3.Cursor at 0x2af2b555e40>"
      ]
     },
     "execution_count": 3,
     "metadata": {},
     "output_type": "execute_result"
    }
   ],
   "source": [
    "# Cursor 생성\n",
    "cur = con.cursor()\n",
    "\n",
    "# 테이블이 이미 있다면 삭제\n",
    "cur.execute(\"DROP TABLE IF EXISTS student\")\n",
    "\n",
    "# 테이블 생성\n",
    "cur.execute(\"\"\"\n",
    "    CREATE TABLE student(\n",
    "        first_name text,\n",
    "        last_name text,\n",
    "        age integer\n",
    "    )\n",
    "    \"\"\")\n",
    "\n",
    "# 데이터 삽입\n",
    "# execute 함수는 한번에 하나의 SQL문만 실행 가능\n",
    "cur.execute(\"INSERT INTO student VALUES ('Tomas', 'Train', 10)\")\n",
    "cur.execute(\"INSERT INTO student VALUES ('Bean', 'Green', 1)\")"
   ]
  },
  {
   "cell_type": "code",
   "execution_count": 4,
   "metadata": {},
   "outputs": [
    {
     "ename": "Warning",
     "evalue": "You can only execute one statement at a time.",
     "output_type": "error",
     "traceback": [
      "\u001b[1;31m---------------------------------------------------------------------------\u001b[0m",
      "\u001b[1;31mWarning\u001b[0m                                   Traceback (most recent call last)",
      "\u001b[1;32mc:\\Users\\hamus\\OneDrive\\바탕 화면\\SQL\\0_sqlite3.ipynb Cell 7\u001b[0m line \u001b[0;36m2\n\u001b[0;32m      <a href='vscode-notebook-cell:/c%3A/Users/hamus/OneDrive/%EB%B0%94%ED%83%95%20%ED%99%94%EB%A9%B4/SQL/0_sqlite3.ipynb#W6sZmlsZQ%3D%3D?line=0'>1</a>\u001b[0m \u001b[39m# 한번에 여러개를 실행하려고 하면 에러 발생\u001b[39;00m\n\u001b[1;32m----> <a href='vscode-notebook-cell:/c%3A/Users/hamus/OneDrive/%EB%B0%94%ED%83%95%20%ED%99%94%EB%A9%B4/SQL/0_sqlite3.ipynb#W6sZmlsZQ%3D%3D?line=1'>2</a>\u001b[0m cur\u001b[39m.\u001b[39;49mexecute(\u001b[39m\"\"\"\u001b[39;49m\n\u001b[0;32m      <a href='vscode-notebook-cell:/c%3A/Users/hamus/OneDrive/%EB%B0%94%ED%83%95%20%ED%99%94%EB%A9%B4/SQL/0_sqlite3.ipynb#W6sZmlsZQ%3D%3D?line=2'>3</a>\u001b[0m \u001b[39m            INSERT INTO student VALUES (\u001b[39;49m\u001b[39m'\u001b[39;49m\u001b[39mTomas\u001b[39;49m\u001b[39m'\u001b[39;49m\u001b[39m, \u001b[39;49m\u001b[39m'\u001b[39;49m\u001b[39mTrain\u001b[39;49m\u001b[39m'\u001b[39;49m\u001b[39m, 10);\u001b[39;49m\n\u001b[0;32m      <a href='vscode-notebook-cell:/c%3A/Users/hamus/OneDrive/%EB%B0%94%ED%83%95%20%ED%99%94%EB%A9%B4/SQL/0_sqlite3.ipynb#W6sZmlsZQ%3D%3D?line=3'>4</a>\u001b[0m \u001b[39m            INSERT INTO student VALUES (\u001b[39;49m\u001b[39m'\u001b[39;49m\u001b[39mBean\u001b[39;49m\u001b[39m'\u001b[39;49m\u001b[39m, \u001b[39;49m\u001b[39m'\u001b[39;49m\u001b[39mGreen\u001b[39;49m\u001b[39m'\u001b[39;49m\u001b[39m, 1);\u001b[39;49m\n\u001b[0;32m      <a href='vscode-notebook-cell:/c%3A/Users/hamus/OneDrive/%EB%B0%94%ED%83%95%20%ED%99%94%EB%A9%B4/SQL/0_sqlite3.ipynb#W6sZmlsZQ%3D%3D?line=4'>5</a>\u001b[0m \u001b[39m            \u001b[39;49m\u001b[39m\"\"\"\u001b[39;49m)\n",
      "\u001b[1;31mWarning\u001b[0m: You can only execute one statement at a time."
     ]
    }
   ],
   "source": [
    "# 한번에 여러개를 실행하려고 하면 에러 발생\n",
    "cur.execute(\"\"\"\n",
    "            INSERT INTO student VALUES ('Tomas', 'Train', 10);\n",
    "            INSERT INTO student VALUES ('Bean', 'Green', 1);\n",
    "            \"\"\")"
   ]
  },
  {
   "cell_type": "code",
   "execution_count": 5,
   "metadata": {},
   "outputs": [
    {
     "data": {
      "text/plain": [
       "<sqlite3.Cursor at 0x2af2b555e40>"
      ]
     },
     "execution_count": 5,
     "metadata": {},
     "output_type": "execute_result"
    }
   ],
   "source": [
    "# 한번에 여러 SQL문을 실행하고 싶은 경우 executescript 사용하기\n",
    "cur.executescript(\"\"\"\n",
    "    DROP TABLE IF EXISTS teacher;\n",
    "    DROP TABLE IF EXISTS book;\n",
    "\n",
    "    CREATE TABLE teacher(\n",
    "        firstname,\n",
    "        lastname,\n",
    "        age\n",
    "    );\n",
    "\n",
    "    CREATE TABLE book(\n",
    "        title,\n",
    "        author,\n",
    "        published\n",
    "    );\n",
    "\n",
    "    INSERT INTO book(title, author, published)\n",
    "    VALUES (\n",
    "        'Dirk Gently''s Holistic Detective Agency',\n",
    "        'Douglas Adams',\n",
    "        1987\n",
    "    );\n",
    "    \"\"\")"
   ]
  },
  {
   "cell_type": "code",
   "execution_count": 6,
   "metadata": {},
   "outputs": [
    {
     "data": {
      "text/plain": [
       "[('Tomas', 'Train', 10),\n",
       " ('Bean', 'Green', 1),\n",
       " ('Bee', 'Honey', 3),\n",
       " ('Bee', 'Zig', 5),\n",
       " ('Bob', 'Sponge', 7)]"
      ]
     },
     "execution_count": 6,
     "metadata": {},
     "output_type": "execute_result"
    }
   ],
   "source": [
    "# 같은 형식의 SQL문에 데이터만 바꿔서 여러번 실행하고 싶은 경우,\n",
    "# executemany와 제너레이터를 조합하면 좋다\n",
    "# 메모리에 모두 올라가는 적은 양의 데이터라면 그냥 리스트로 넘겨도 될듯\n",
    "def data_generator():\n",
    "    datas = [\n",
    "                ['Bee', 'Honey', 3],\n",
    "                ['Bee', 'Zig', 5], \n",
    "                ['Bob', 'Sponge', 7]\n",
    "            ]\n",
    "    for data in datas:\n",
    "        yield data\n",
    "\n",
    "cur.executemany(\"INSERT INTO student VALUES (?, ?, ?)\", data_generator())\n",
    "cur.execute(\"SELECT * FROM student\")\n",
    "cur.fetchall()"
   ]
  },
  {
   "cell_type": "markdown",
   "metadata": {},
   "source": [
    "### 결과 조회\n",
    "SQL 결과를 조회하기 위해서는 Cursor 객체를 iterator로 활용하는 방법,  \n",
    "fetchone, fetchmany, fetchall 함수를 이용하는 방법이 있습니다.\n"
   ]
  },
  {
   "cell_type": "code",
   "execution_count": 7,
   "metadata": {},
   "outputs": [
    {
     "name": "stdout",
     "output_type": "stream",
     "text": [
      "('Tomas', 'Train', 10)\n",
      "('Bean', 'Green', 1)\n"
     ]
    }
   ],
   "source": [
    "# Cursor는 iterator객체이므로 순차적으로 값을 불러올 수 있다\n",
    "cur.execute(\"SELECT * FROM student\").rowcount\n",
    "\n",
    "print(next(cur))\n",
    "print(next(cur))"
   ]
  },
  {
   "cell_type": "code",
   "execution_count": 8,
   "metadata": {},
   "outputs": [
    {
     "data": {
      "text/plain": [
       "True"
      ]
     },
     "execution_count": 8,
     "metadata": {},
     "output_type": "execute_result"
    }
   ],
   "source": [
    "# SQL 실행하면 동일한 cursor 객체를 리턴해준다\n",
    "cur.execute(\"SELECT * FROM student\") is cur"
   ]
  },
  {
   "cell_type": "code",
   "execution_count": 9,
   "metadata": {},
   "outputs": [
    {
     "name": "stdout",
     "output_type": "stream",
     "text": [
      "('Tomas', 'Train', 10)\n",
      "('Bean', 'Green', 1)\n",
      "('Bee', 'Honey', 3)\n",
      "('Bee', 'Zig', 5)\n",
      "('Bob', 'Sponge', 7)\n"
     ]
    }
   ],
   "source": [
    "# 그래서 이렇게 바로 for문에 넣는것도 가능!\n",
    "for row in cur.execute(\"SELECT * FROM student\"):\n",
    "    print(row)"
   ]
  },
  {
   "cell_type": "markdown",
   "metadata": {},
   "source": [
    "fetchone, fetchmany, fetchall 함수를 이용하여 결과를 가져올 경우,  \n",
    "이미 조회한 데이터는 다시 함수를 호출해도 조회할 수 없습니다. (다음 데이터부터 가져옴)  \n",
    "다시 조회하고 싶다면 SQL문을 다시 실행해야합니다."
   ]
  },
  {
   "cell_type": "code",
   "execution_count": 12,
   "metadata": {},
   "outputs": [
    {
     "data": {
      "text/plain": [
       "('Tomas', 'Train', 10)"
      ]
     },
     "execution_count": 12,
     "metadata": {},
     "output_type": "execute_result"
    }
   ],
   "source": [
    "# fetchone은 실행결과 중 하나의 행만 가져온다\n",
    "cur.execute(\"SELECT * FROM student\")\n",
    "cur.fetchone()"
   ]
  },
  {
   "cell_type": "code",
   "execution_count": 13,
   "metadata": {},
   "outputs": [
    {
     "data": {
      "text/plain": [
       "('Bean', 'Green', 1)"
      ]
     },
     "execution_count": 13,
     "metadata": {},
     "output_type": "execute_result"
    }
   ],
   "source": [
    "# 한번 더 호출해보면 그 다음 행을 가져온다\n",
    "cur.fetchone()"
   ]
  },
  {
   "cell_type": "code",
   "execution_count": 14,
   "metadata": {},
   "outputs": [
    {
     "data": {
      "text/plain": [
       "[('Bee', 'Honey', 3), ('Bee', 'Zig', 5), ('Bob', 'Sponge', 7)]"
      ]
     },
     "execution_count": 14,
     "metadata": {},
     "output_type": "execute_result"
    }
   ],
   "source": [
    "# fetchmany는 실행 결과 중 원하는 개수의 행을 가져올 수 있다\n",
    "# 원하는 개수보다 적은 행이 남아있으면 남은 행만큼만 가져온다\n",
    "cur.fetchmany(5)"
   ]
  },
  {
   "cell_type": "code",
   "execution_count": 15,
   "metadata": {},
   "outputs": [
    {
     "data": {
      "text/plain": [
       "[]"
      ]
     },
     "execution_count": 15,
     "metadata": {},
     "output_type": "execute_result"
    }
   ],
   "source": [
    "# fetchall은 실행 결과 중 남아있는 모든 행을 가져온다\n",
    "# 남아있는 행이 없으면 빈 리스트 리턴\n",
    "cur.fetchall()"
   ]
  },
  {
   "cell_type": "code",
   "execution_count": 16,
   "metadata": {},
   "outputs": [
    {
     "data": {
      "text/plain": [
       "[('Tomas', 'Train', 10),\n",
       " ('Bean', 'Green', 1),\n",
       " ('Bee', 'Honey', 3),\n",
       " ('Bee', 'Zig', 5),\n",
       " ('Bob', 'Sponge', 7)]"
      ]
     },
     "execution_count": 16,
     "metadata": {},
     "output_type": "execute_result"
    }
   ],
   "source": [
    "# 다시 조회하고 싶으면 SQL문을 다시 실행해야한다\n",
    "cur.execute(\"SELECT * FROM student\")\n",
    "cur.fetchall()"
   ]
  },
  {
   "cell_type": "markdown",
   "metadata": {},
   "source": [
    "### 변경사항 저장\n",
    "Connection객체의 commit함수로 변경사항을 저장할 수 있습니다."
   ]
  },
  {
   "cell_type": "code",
   "execution_count": 17,
   "metadata": {},
   "outputs": [
    {
     "name": "stdout",
     "output_type": "stream",
     "text": [
      "('Tomas', 'Train', 10)\n",
      "('Bean', 'Green', 1)\n",
      "('Bee', 'Honey', 3)\n",
      "('Bee', 'Zig', 5)\n",
      "('Bob', 'Sponge', 7)\n"
     ]
    }
   ],
   "source": [
    "# commit으로 변경사항 저장\n",
    "con.commit()\n",
    "\n",
    "# 다시 연결한 다음 확인해보기\n",
    "con.close()\n",
    "\n",
    "con = sqlite3.connect('./database/example.db')\n",
    "cur = con.cursor()\n",
    "\n",
    "# 변경사항이 저장됐다\n",
    "for row in cur.execute(\"SELECT * FROM student\"):\n",
    "    print(row)"
   ]
  },
  {
   "cell_type": "markdown",
   "metadata": {},
   "source": [
    "## 테이블 보기 좋게 출력하기"
   ]
  },
  {
   "cell_type": "markdown",
   "metadata": {},
   "source": [
    "### prettytable\n",
    "이번 프로젝트에서는 prettytable 모듈을 활용했습니다.  \n",
    "pandas를 활용해도 좋겠지만 단순히 SQL 실행 결과만 확인할 것이기 때문에 prettytable로도 충분합니다."
   ]
  },
  {
   "cell_type": "code",
   "execution_count": 20,
   "metadata": {},
   "outputs": [
    {
     "name": "stdout",
     "output_type": "stream",
     "text": [
      "Version: 3.9.0\n"
     ]
    }
   ],
   "source": [
    "# prettytable 모듈 버전 확인\n",
    "!pip show prettytable | findstr Version\n",
    "\n",
    "# 리눅스 환경에서는 findstr 말고 grep 사용하기\n",
    "# !pip show prettytable | grep Version\n",
    "\n",
    "# 모듈 없는 경우 주석 해제하고 설치하기\n",
    "# !pip install prettytable"
   ]
  },
  {
   "cell_type": "markdown",
   "metadata": {},
   "source": [
    "Python DB-API를 통해 지원되는 DB모듈의 경우 Cursor 객체를 바로 테이블로 만들 수 있습니다"
   ]
  },
  {
   "cell_type": "code",
   "execution_count": 21,
   "metadata": {},
   "outputs": [
    {
     "data": {
      "text/html": [
       "<table>\n",
       "    <thead>\n",
       "        <tr>\n",
       "            <th>first_name</th>\n",
       "            <th>last_name</th>\n",
       "            <th>age</th>\n",
       "        </tr>\n",
       "    </thead>\n",
       "    <tbody>\n",
       "        <tr>\n",
       "            <td>Tomas</td>\n",
       "            <td>Train</td>\n",
       "            <td>10</td>\n",
       "        </tr>\n",
       "        <tr>\n",
       "            <td>Bean</td>\n",
       "            <td>Green</td>\n",
       "            <td>1</td>\n",
       "        </tr>\n",
       "        <tr>\n",
       "            <td>Bee</td>\n",
       "            <td>Honey</td>\n",
       "            <td>3</td>\n",
       "        </tr>\n",
       "        <tr>\n",
       "            <td>Bee</td>\n",
       "            <td>Zig</td>\n",
       "            <td>5</td>\n",
       "        </tr>\n",
       "        <tr>\n",
       "            <td>Bob</td>\n",
       "            <td>Sponge</td>\n",
       "            <td>7</td>\n",
       "        </tr>\n",
       "    </tbody>\n",
       "</table>"
      ],
      "text/plain": [
       "+------------+-----------+-----+\n",
       "| first_name | last_name | age |\n",
       "+------------+-----------+-----+\n",
       "|   Tomas    |   Train   |  10 |\n",
       "|    Bean    |   Green   |  1  |\n",
       "|    Bee     |   Honey   |  3  |\n",
       "|    Bee     |    Zig    |  5  |\n",
       "|    Bob     |   Sponge  |  7  |\n",
       "+------------+-----------+-----+"
      ]
     },
     "execution_count": 21,
     "metadata": {},
     "output_type": "execute_result"
    }
   ],
   "source": [
    "from prettytable import from_db_cursor\n",
    "\n",
    "cur.execute(\"SELECT * FROM student\")\n",
    "from_db_cursor(cur)"
   ]
  },
  {
   "cell_type": "markdown",
   "metadata": {},
   "source": [
    "### 스키마\n",
    "sqlite에서 스키마를 확인하려면 DESC 명령어 대신 다른 방법을 사용해야 합니다.  \n",
    "https://www.sqlitetutorial.net/sqlite-describe-table/"
   ]
  },
  {
   "cell_type": "markdown",
   "metadata": {},
   "source": [
    "* sqlite_schema 테이블에 저장된 SQL 확인하기"
   ]
  },
  {
   "cell_type": "code",
   "execution_count": 31,
   "metadata": {},
   "outputs": [
    {
     "data": {
      "text/html": [
       "<table>\n",
       "    <thead>\n",
       "        <tr>\n",
       "            <th>type</th>\n",
       "            <th>name</th>\n",
       "            <th>tbl_name</th>\n",
       "            <th>rootpage</th>\n",
       "            <th>sql</th>\n",
       "        </tr>\n",
       "    </thead>\n",
       "    <tbody>\n",
       "        <tr>\n",
       "            <td>table</td>\n",
       "            <td>student</td>\n",
       "            <td>student</td>\n",
       "            <td>2</td>\n",
       "            <td>CREATE TABLE student(<br>        first_name text,<br>        last_name text,<br>        age integer<br>    )</td>\n",
       "        </tr>\n",
       "    </tbody>\n",
       "</table>"
      ],
      "text/plain": [
       "+-------+---------+----------+----------+--------------------------+\n",
       "|  type |   name  | tbl_name | rootpage |           sql            |\n",
       "+-------+---------+----------+----------+--------------------------+\n",
       "| table | student | student  |    2     |  CREATE TABLE student(   |\n",
       "|       |         |          |          |         first_name text, |\n",
       "|       |         |          |          |         last_name text,  |\n",
       "|       |         |          |          |           age integer    |\n",
       "|       |         |          |          |              )           |\n",
       "+-------+---------+----------+----------+--------------------------+"
      ]
     },
     "execution_count": 31,
     "metadata": {},
     "output_type": "execute_result"
    }
   ],
   "source": [
    "cur.execute(\n",
    "    \"\"\"\n",
    "    SELECT *\n",
    "    FROM sqlite_schema \n",
    "    WHERE name = 'student';\n",
    "    \"\"\"\n",
    "            )\n",
    "from_db_cursor(cur)"
   ]
  },
  {
   "cell_type": "code",
   "execution_count": 33,
   "metadata": {},
   "outputs": [
    {
     "data": {
      "text/html": [
       "<table>\n",
       "    <thead>\n",
       "        <tr>\n",
       "            <th>type</th>\n",
       "            <th>name</th>\n",
       "            <th>tbl_name</th>\n",
       "            <th>rootpage</th>\n",
       "            <th>sql</th>\n",
       "        </tr>\n",
       "    </thead>\n",
       "    <tbody>\n",
       "        <tr>\n",
       "            <td>table</td>\n",
       "            <td>student</td>\n",
       "            <td>student</td>\n",
       "            <td>2</td>\n",
       "            <td>CREATE TABLE student(<br>        first_name text,<br>        last_name text,<br>        age integer<br>    )</td>\n",
       "        </tr>\n",
       "    </tbody>\n",
       "</table>"
      ],
      "text/plain": [
       "+-------+---------+----------+----------+--------------------------+\n",
       "|  type |   name  | tbl_name | rootpage |           sql            |\n",
       "+-------+---------+----------+----------+--------------------------+\n",
       "| table | student | student  |    2     |  CREATE TABLE student(   |\n",
       "|       |         |          |          |         first_name text, |\n",
       "|       |         |          |          |         last_name text,  |\n",
       "|       |         |          |          |           age integer    |\n",
       "|       |         |          |          |              )           |\n",
       "+-------+---------+----------+----------+--------------------------+"
      ]
     },
     "execution_count": 33,
     "metadata": {},
     "output_type": "execute_result"
    }
   ],
   "source": [
    "# sqlite_master 테이블로도 동일하게 스키마 확인 가능 (대체 가능한 별칭)\n",
    "cur.execute(\n",
    "    \"\"\"\n",
    "    SELECT *\n",
    "    FROM sqlite_master \n",
    "    WHERE name = 'student';\n",
    "    \"\"\"\n",
    "            )\n",
    "from_db_cursor(cur)"
   ]
  },
  {
   "cell_type": "code",
   "execution_count": 36,
   "metadata": {},
   "outputs": [
    {
     "data": {
      "text/html": [
       "<table>\n",
       "    <thead>\n",
       "        <tr>\n",
       "            <th>type</th>\n",
       "            <th>name</th>\n",
       "            <th>tbl_name</th>\n",
       "            <th>rootpage</th>\n",
       "            <th>sql</th>\n",
       "        </tr>\n",
       "    </thead>\n",
       "    <tbody>\n",
       "        <tr>\n",
       "            <td>table</td>\n",
       "            <td>student</td>\n",
       "            <td>student</td>\n",
       "            <td>2</td>\n",
       "            <td>CREATE TABLE student(<br>        first_name text,<br>        last_name text,<br>        age integer<br>    )</td>\n",
       "        </tr>\n",
       "        <tr>\n",
       "            <td>table</td>\n",
       "            <td>teacher</td>\n",
       "            <td>teacher</td>\n",
       "            <td>4</td>\n",
       "            <td>CREATE TABLE teacher(<br>        firstname,<br>        lastname,<br>        age<br>    )</td>\n",
       "        </tr>\n",
       "        <tr>\n",
       "            <td>table</td>\n",
       "            <td>book</td>\n",
       "            <td>book</td>\n",
       "            <td>3</td>\n",
       "            <td>CREATE TABLE book(<br>        title,<br>        author,<br>        published<br>    )</td>\n",
       "        </tr>\n",
       "    </tbody>\n",
       "</table>"
      ],
      "text/plain": [
       "+-------+---------+----------+----------+--------------------------+\n",
       "|  type |   name  | tbl_name | rootpage |           sql            |\n",
       "+-------+---------+----------+----------+--------------------------+\n",
       "| table | student | student  |    2     |  CREATE TABLE student(   |\n",
       "|       |         |          |          |         first_name text, |\n",
       "|       |         |          |          |         last_name text,  |\n",
       "|       |         |          |          |           age integer    |\n",
       "|       |         |          |          |              )           |\n",
       "| table | teacher | teacher  |    4     |  CREATE TABLE teacher(   |\n",
       "|       |         |          |          |            firstname,    |\n",
       "|       |         |          |          |            lastname,     |\n",
       "|       |         |          |          |               age        |\n",
       "|       |         |          |          |              )           |\n",
       "| table |   book  |   book   |    3     |    CREATE TABLE book(    |\n",
       "|       |         |          |          |              title,      |\n",
       "|       |         |          |          |             author,      |\n",
       "|       |         |          |          |            published     |\n",
       "|       |         |          |          |              )           |\n",
       "+-------+---------+----------+----------+--------------------------+"
      ]
     },
     "execution_count": 36,
     "metadata": {},
     "output_type": "execute_result"
    }
   ],
   "source": [
    "# 모든 테이블의 스키마도 확인 가능\n",
    "cur.execute(\"SELECT * FROM sqlite_master\")\n",
    "from_db_cursor(cur)"
   ]
  },
  {
   "cell_type": "markdown",
   "metadata": {},
   "source": [
    "\n",
    "* PARAGMA table_info(테이블명) 명령문으로 스키마 확인하기"
   ]
  },
  {
   "cell_type": "code",
   "execution_count": 37,
   "metadata": {},
   "outputs": [
    {
     "data": {
      "text/html": [
       "<table>\n",
       "    <thead>\n",
       "        <tr>\n",
       "            <th>cid</th>\n",
       "            <th>name</th>\n",
       "            <th>type</th>\n",
       "            <th>notnull</th>\n",
       "            <th>dflt_value</th>\n",
       "            <th>pk</th>\n",
       "        </tr>\n",
       "    </thead>\n",
       "    <tbody>\n",
       "        <tr>\n",
       "            <td>0</td>\n",
       "            <td>first_name</td>\n",
       "            <td>TEXT</td>\n",
       "            <td>0</td>\n",
       "            <td>None</td>\n",
       "            <td>0</td>\n",
       "        </tr>\n",
       "        <tr>\n",
       "            <td>1</td>\n",
       "            <td>last_name</td>\n",
       "            <td>TEXT</td>\n",
       "            <td>0</td>\n",
       "            <td>None</td>\n",
       "            <td>0</td>\n",
       "        </tr>\n",
       "        <tr>\n",
       "            <td>2</td>\n",
       "            <td>age</td>\n",
       "            <td>INTEGER</td>\n",
       "            <td>0</td>\n",
       "            <td>None</td>\n",
       "            <td>0</td>\n",
       "        </tr>\n",
       "    </tbody>\n",
       "</table>"
      ],
      "text/plain": [
       "+-----+------------+---------+---------+------------+----+\n",
       "| cid |    name    |   type  | notnull | dflt_value | pk |\n",
       "+-----+------------+---------+---------+------------+----+\n",
       "|  0  | first_name |   TEXT  |    0    |    None    | 0  |\n",
       "|  1  | last_name  |   TEXT  |    0    |    None    | 0  |\n",
       "|  2  |    age     | INTEGER |    0    |    None    | 0  |\n",
       "+-----+------------+---------+---------+------------+----+"
      ]
     },
     "execution_count": 37,
     "metadata": {},
     "output_type": "execute_result"
    }
   ],
   "source": [
    "cur.execute(\"PRAGMA table_info('student')\")\n",
    "from_db_cursor(cur)"
   ]
  }
 ],
 "metadata": {
  "kernelspec": {
   "display_name": "Python 3.7.11 ('serving')",
   "language": "python",
   "name": "python3"
  },
  "language_info": {
   "codemirror_mode": {
    "name": "ipython",
    "version": 3
   },
   "file_extension": ".py",
   "mimetype": "text/x-python",
   "name": "python",
   "nbconvert_exporter": "python",
   "pygments_lexer": "ipython3",
   "version": "3.10.11"
  },
  "orig_nbformat": 4,
  "vscode": {
   "interpreter": {
    "hash": "78c2f73d8f598d4660a3f0c563015f91d2aa7e288f16a9eb14acf27163dbf34d"
   }
  }
 },
 "nbformat": 4,
 "nbformat_minor": 2
}
